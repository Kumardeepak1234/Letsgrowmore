{
 "cells": [
  {
   "cell_type": "markdown",
   "id": "a4bfb033",
   "metadata": {},
   "source": [
    "# Task 3 of LGM Internship Name is Music Recommendation"
   ]
  },
  {
   "cell_type": "code",
   "execution_count": 1,
   "id": "072892ed",
   "metadata": {},
   "outputs": [],
   "source": [
    "import pandas as pd\n",
    "import numpy as np\n",
    "import seaborn as sns\n",
    "import matplotlib.pyplot as plt\n",
    "%matplotlib inline\n",
    "from sklearn.preprocessing import StandardScaler\n",
    "from sklearn.ensemble import RandomForestClassifier\n",
    "from sklearn.model_selection import train_test_split\n",
    "from sklearn.metrics import accuracy_score\n",
    "from sklearn.metrics import confusion_matrix\n",
    "from sklearn.metrics import accuracy_score"
   ]
  },
  {
   "cell_type": "code",
   "execution_count": 2,
   "id": "8e46f73d",
   "metadata": {},
   "outputs": [],
   "source": [
    "songs_data = pd.read_csv(\"songs.csv\", encoding=\"ISO-8859-1\")\n",
    "songs_extra_info = pd.read_csv(\"song_extra_info.csv\", encoding=\"ISO-8859-1\")\n",
    "train_data = pd.read_csv(\"train.csv\")\n",
    "test_data = pd.read_csv(\"test.csv\")\n",
    "members_data = pd.read_csv(\"members.csv\")\n",
    "sample_submission_data = pd.read_csv(\"sample_submission.csv\")"
   ]
  },
  {
   "cell_type": "code",
   "execution_count": 4,
   "id": "12362c72",
   "metadata": {},
   "outputs": [
    {
     "data": {
      "text/html": [
       "<div>\n",
       "<style scoped>\n",
       "    .dataframe tbody tr th:only-of-type {\n",
       "        vertical-align: middle;\n",
       "    }\n",
       "\n",
       "    .dataframe tbody tr th {\n",
       "        vertical-align: top;\n",
       "    }\n",
       "\n",
       "    .dataframe thead th {\n",
       "        text-align: right;\n",
       "    }\n",
       "</style>\n",
       "<table border=\"1\" class=\"dataframe\">\n",
       "  <thead>\n",
       "    <tr style=\"text-align: right;\">\n",
       "      <th></th>\n",
       "      <th>song_id</th>\n",
       "      <th>song_length</th>\n",
       "      <th>genre_ids</th>\n",
       "      <th>artist_name</th>\n",
       "      <th>composer</th>\n",
       "      <th>lyricist</th>\n",
       "      <th>language</th>\n",
       "    </tr>\n",
       "  </thead>\n",
       "  <tbody>\n",
       "    <tr>\n",
       "      <th>0</th>\n",
       "      <td>CXoTN1eb7AI+DntdU1vbcwGRV4SCIDxZu+YD8JP8r4E=</td>\n",
       "      <td>247640</td>\n",
       "      <td>465</td>\n",
       "      <td>å¼µä¿¡å² (Jeff Chang)</td>\n",
       "      <td>è£è²</td>\n",
       "      <td>ä½åå¼</td>\n",
       "      <td>3.0</td>\n",
       "    </tr>\n",
       "    <tr>\n",
       "      <th>1</th>\n",
       "      <td>o0kFgae9QtnYgRkVPqLJwa05zIhRlUjfF7O1tDw0ZDU=</td>\n",
       "      <td>197328</td>\n",
       "      <td>444</td>\n",
       "      <td>BLACKPINK</td>\n",
       "      <td>TEDDY|  FUTURE BOUNCE|  Bekuh BOOM</td>\n",
       "      <td>TEDDY</td>\n",
       "      <td>31.0</td>\n",
       "    </tr>\n",
       "    <tr>\n",
       "      <th>2</th>\n",
       "      <td>DwVvVurfpuz+XPuFvucclVQEyPqcpUkHR0ne1RQzPs0=</td>\n",
       "      <td>231781</td>\n",
       "      <td>465</td>\n",
       "      <td>SUPER JUNIOR</td>\n",
       "      <td>NaN</td>\n",
       "      <td>NaN</td>\n",
       "      <td>31.0</td>\n",
       "    </tr>\n",
       "    <tr>\n",
       "      <th>3</th>\n",
       "      <td>dKMBWoZyScdxSkihKG+Vf47nc18N9q4m58+b4e7dSSE=</td>\n",
       "      <td>273554</td>\n",
       "      <td>465</td>\n",
       "      <td>S.H.E</td>\n",
       "      <td>æ¹¯å°åº·</td>\n",
       "      <td>å¾ä¸ç</td>\n",
       "      <td>3.0</td>\n",
       "    </tr>\n",
       "    <tr>\n",
       "      <th>4</th>\n",
       "      <td>W3bqWd3T+VeHFzHAUfARgW9AvVRaF4N5Yzm4Mr6Eo/o=</td>\n",
       "      <td>140329</td>\n",
       "      <td>726</td>\n",
       "      <td>è²´æç²¾é¸</td>\n",
       "      <td>Traditional</td>\n",
       "      <td>Traditional</td>\n",
       "      <td>52.0</td>\n",
       "    </tr>\n",
       "    <tr>\n",
       "      <th>...</th>\n",
       "      <td>...</td>\n",
       "      <td>...</td>\n",
       "      <td>...</td>\n",
       "      <td>...</td>\n",
       "      <td>...</td>\n",
       "      <td>...</td>\n",
       "      <td>...</td>\n",
       "    </tr>\n",
       "    <tr>\n",
       "      <th>2296315</th>\n",
       "      <td>lg6rn7eV/ZNg0+P+x77kHUL7GDMfoL4eMtXxncseLNA=</td>\n",
       "      <td>20192</td>\n",
       "      <td>958</td>\n",
       "      <td>Catherine Collard</td>\n",
       "      <td>Robert Schumann (1810-1856)</td>\n",
       "      <td>NaN</td>\n",
       "      <td>-1.0</td>\n",
       "    </tr>\n",
       "    <tr>\n",
       "      <th>2296316</th>\n",
       "      <td>nXi1lrSJe+gLoTTNky7If0mNPrIyCQCLwagwR6XopGU=</td>\n",
       "      <td>273391</td>\n",
       "      <td>465</td>\n",
       "      <td>ç´ææ  (Justine Chi)</td>\n",
       "      <td>NaN</td>\n",
       "      <td>NaN</td>\n",
       "      <td>3.0</td>\n",
       "    </tr>\n",
       "    <tr>\n",
       "      <th>2296317</th>\n",
       "      <td>9KxSvIjbJyJzfEVWnkMbgR6dyn6d54ot0N5FKyKqii8=</td>\n",
       "      <td>445172</td>\n",
       "      <td>1609</td>\n",
       "      <td>Various Artists</td>\n",
       "      <td>NaN</td>\n",
       "      <td>NaN</td>\n",
       "      <td>52.0</td>\n",
       "    </tr>\n",
       "    <tr>\n",
       "      <th>2296318</th>\n",
       "      <td>UO8Y2MR2sjOn2q/Tp8/lzZTGKmLEvwZ20oWanG4XnYc=</td>\n",
       "      <td>172669</td>\n",
       "      <td>465</td>\n",
       "      <td>Peter Paul &amp; Mary</td>\n",
       "      <td>NaN</td>\n",
       "      <td>NaN</td>\n",
       "      <td>52.0</td>\n",
       "    </tr>\n",
       "    <tr>\n",
       "      <th>2296319</th>\n",
       "      <td>V/9qPSUOGT0FeIGBhDIZRRz5Y5yyjdXC2Z/+bJExo5s=</td>\n",
       "      <td>270466</td>\n",
       "      <td>829</td>\n",
       "      <td>Kim Robertson</td>\n",
       "      <td>NaN</td>\n",
       "      <td>NaN</td>\n",
       "      <td>52.0</td>\n",
       "    </tr>\n",
       "  </tbody>\n",
       "</table>\n",
       "<p>2296320 rows × 7 columns</p>\n",
       "</div>"
      ],
      "text/plain": [
       "                                              song_id  song_length genre_ids  \\\n",
       "0        CXoTN1eb7AI+DntdU1vbcwGRV4SCIDxZu+YD8JP8r4E=       247640       465   \n",
       "1        o0kFgae9QtnYgRkVPqLJwa05zIhRlUjfF7O1tDw0ZDU=       197328       444   \n",
       "2        DwVvVurfpuz+XPuFvucclVQEyPqcpUkHR0ne1RQzPs0=       231781       465   \n",
       "3        dKMBWoZyScdxSkihKG+Vf47nc18N9q4m58+b4e7dSSE=       273554       465   \n",
       "4        W3bqWd3T+VeHFzHAUfARgW9AvVRaF4N5Yzm4Mr6Eo/o=       140329       726   \n",
       "...                                               ...          ...       ...   \n",
       "2296315  lg6rn7eV/ZNg0+P+x77kHUL7GDMfoL4eMtXxncseLNA=        20192       958   \n",
       "2296316  nXi1lrSJe+gLoTTNky7If0mNPrIyCQCLwagwR6XopGU=       273391       465   \n",
       "2296317  9KxSvIjbJyJzfEVWnkMbgR6dyn6d54ot0N5FKyKqii8=       445172      1609   \n",
       "2296318  UO8Y2MR2sjOn2q/Tp8/lzZTGKmLEvwZ20oWanG4XnYc=       172669       465   \n",
       "2296319  V/9qPSUOGT0FeIGBhDIZRRz5Y5yyjdXC2Z/+bJExo5s=       270466       829   \n",
       "\n",
       "                     artist_name                            composer  \\\n",
       "0         å¼µä¿¡å² (Jeff Chang)                              è£è²   \n",
       "1                      BLACKPINK  TEDDY|  FUTURE BOUNCE|  Bekuh BOOM   \n",
       "2                   SUPER JUNIOR                                 NaN   \n",
       "3                          S.H.E                           æ¹¯å°åº·   \n",
       "4                   è²´æç²¾é¸                         Traditional   \n",
       "...                          ...                                 ...   \n",
       "2296315        Catherine Collard         Robert Schumann (1810-1856)   \n",
       "2296316  ç´ææ  (Justine Chi)                                 NaN   \n",
       "2296317          Various Artists                                 NaN   \n",
       "2296318        Peter Paul & Mary                                 NaN   \n",
       "2296319            Kim Robertson                                 NaN   \n",
       "\n",
       "            lyricist  language  \n",
       "0          ä½åå¼       3.0  \n",
       "1              TEDDY      31.0  \n",
       "2                NaN      31.0  \n",
       "3          å¾ä¸ç       3.0  \n",
       "4        Traditional      52.0  \n",
       "...              ...       ...  \n",
       "2296315          NaN      -1.0  \n",
       "2296316          NaN       3.0  \n",
       "2296317          NaN      52.0  \n",
       "2296318          NaN      52.0  \n",
       "2296319          NaN      52.0  \n",
       "\n",
       "[2296320 rows x 7 columns]"
      ]
     },
     "execution_count": 4,
     "metadata": {},
     "output_type": "execute_result"
    }
   ],
   "source": [
    "songs_data"
   ]
  },
  {
   "cell_type": "code",
   "execution_count": 5,
   "id": "4d340b39",
   "metadata": {},
   "outputs": [
    {
     "data": {
      "text/html": [
       "<div>\n",
       "<style scoped>\n",
       "    .dataframe tbody tr th:only-of-type {\n",
       "        vertical-align: middle;\n",
       "    }\n",
       "\n",
       "    .dataframe tbody tr th {\n",
       "        vertical-align: top;\n",
       "    }\n",
       "\n",
       "    .dataframe thead th {\n",
       "        text-align: right;\n",
       "    }\n",
       "</style>\n",
       "<table border=\"1\" class=\"dataframe\">\n",
       "  <thead>\n",
       "    <tr style=\"text-align: right;\">\n",
       "      <th></th>\n",
       "      <th>song_id</th>\n",
       "      <th>name</th>\n",
       "      <th>isrc</th>\n",
       "    </tr>\n",
       "  </thead>\n",
       "  <tbody>\n",
       "    <tr>\n",
       "      <th>0</th>\n",
       "      <td>LP7pLJoJFBvyuUwvu+oLzjT+bI+UeBPURCecJsX1jjs=</td>\n",
       "      <td>æå</td>\n",
       "      <td>TWUM71200043</td>\n",
       "    </tr>\n",
       "    <tr>\n",
       "      <th>1</th>\n",
       "      <td>ClazTFnk6r0Bnuie44bocdNMM3rdlrq0bCGAsGUWcHE=</td>\n",
       "      <td>Let Me Love You</td>\n",
       "      <td>QMZSY1600015</td>\n",
       "    </tr>\n",
       "    <tr>\n",
       "      <th>2</th>\n",
       "      <td>u2ja/bZE3zhCGxvbbOB3zOoUjx27u40cf5g09UXMoKQ=</td>\n",
       "      <td>åè«æ</td>\n",
       "      <td>TWA530887303</td>\n",
       "    </tr>\n",
       "    <tr>\n",
       "      <th>3</th>\n",
       "      <td>92Fqsy0+p6+RHe2EoLKjHahORHR1Kq1TBJoClW9v+Ts=</td>\n",
       "      <td>Classic</td>\n",
       "      <td>USSM11301446</td>\n",
       "    </tr>\n",
       "    <tr>\n",
       "      <th>4</th>\n",
       "      <td>0QFmz/+rJy1Q56C1DuYqT9hKKqi5TUqx0sN0IwvoHrw=</td>\n",
       "      <td>ææç¾",
       "ç¶²</td>\n",
       "      <td>TWA471306001</td>\n",
       "    </tr>\n",
       "    <tr>\n",
       "      <th>...</th>\n",
       "      <td>...</td>\n",
       "      <td>...</td>\n",
       "      <td>...</td>\n",
       "    </tr>\n",
       "    <tr>\n",
       "      <th>2295966</th>\n",
       "      <td>hLnetpF6UbPg28sSfXnPE2vsdaGsLvddlXEdJR4VTIA=</td>\n",
       "      <td>Deep Breathing</td>\n",
       "      <td>PLL431720793</td>\n",
       "    </tr>\n",
       "    <tr>\n",
       "      <th>2295967</th>\n",
       "      <td>N+6vJ8actKQm0S3Fpf4elipTjoAo9ev28aA5FJN5e40=</td>\n",
       "      <td>In Hiding</td>\n",
       "      <td>US5UL1519827</td>\n",
       "    </tr>\n",
       "    <tr>\n",
       "      <th>2295968</th>\n",
       "      <td>pv35uG0ts05mWtirM/AMOWEzbHxIVart5ZzRXqKUY1c=</td>\n",
       "      <td>Il Est Ne Le Divin Enfant</td>\n",
       "      <td>PLL431502294</td>\n",
       "    </tr>\n",
       "    <tr>\n",
       "      <th>2295969</th>\n",
       "      <td>QSySnm8jt2Go7byY34/PxsZP6dPCins2j2cyYquNhBo=</td>\n",
       "      <td>The Exodus Song</td>\n",
       "      <td>DEPZ69316095</td>\n",
       "    </tr>\n",
       "    <tr>\n",
       "      <th>2295970</th>\n",
       "      <td>DYKJKSgDOKxb19XzOVO81176qTH0OIHCsfzFRm/BG+g=</td>\n",
       "      <td>Like This</td>\n",
       "      <td>US5UL1512426</td>\n",
       "    </tr>\n",
       "  </tbody>\n",
       "</table>\n",
       "<p>2295971 rows × 3 columns</p>\n",
       "</div>"
      ],
      "text/plain": [
       "                                              song_id  \\\n",
       "0        LP7pLJoJFBvyuUwvu+oLzjT+bI+UeBPURCecJsX1jjs=   \n",
       "1        ClazTFnk6r0Bnuie44bocdNMM3rdlrq0bCGAsGUWcHE=   \n",
       "2        u2ja/bZE3zhCGxvbbOB3zOoUjx27u40cf5g09UXMoKQ=   \n",
       "3        92Fqsy0+p6+RHe2EoLKjHahORHR1Kq1TBJoClW9v+Ts=   \n",
       "4        0QFmz/+rJy1Q56C1DuYqT9hKKqi5TUqx0sN0IwvoHrw=   \n",
       "...                                               ...   \n",
       "2295966  hLnetpF6UbPg28sSfXnPE2vsdaGsLvddlXEdJR4VTIA=   \n",
       "2295967  N+6vJ8actKQm0S3Fpf4elipTjoAo9ev28aA5FJN5e40=   \n",
       "2295968  pv35uG0ts05mWtirM/AMOWEzbHxIVart5ZzRXqKUY1c=   \n",
       "2295969  QSySnm8jt2Go7byY34/PxsZP6dPCins2j2cyYquNhBo=   \n",
       "2295970  DYKJKSgDOKxb19XzOVO81176qTH0OIHCsfzFRm/BG+g=   \n",
       "\n",
       "                              name          isrc  \n",
       "0                           æå  TWUM71200043  \n",
       "1                  Let Me Love You  QMZSY1600015  \n",
       "2                        åè«æ  TWA530887303  \n",
       "3                          Classic  USSM11301446  \n",
       "4                     ææç¾\n",
       "ç¶²  TWA471306001  \n",
       "...                            ...           ...  \n",
       "2295966             Deep Breathing  PLL431720793  \n",
       "2295967                  In Hiding  US5UL1519827  \n",
       "2295968  Il Est Ne Le Divin Enfant  PLL431502294  \n",
       "2295969            The Exodus Song  DEPZ69316095  \n",
       "2295970                  Like This  US5UL1512426  \n",
       "\n",
       "[2295971 rows x 3 columns]"
      ]
     },
     "execution_count": 5,
     "metadata": {},
     "output_type": "execute_result"
    }
   ],
   "source": [
    "songs_extra_info"
   ]
  },
  {
   "cell_type": "code",
   "execution_count": 6,
   "id": "9b3ac038",
   "metadata": {},
   "outputs": [
    {
     "data": {
      "text/html": [
       "<div>\n",
       "<style scoped>\n",
       "    .dataframe tbody tr th:only-of-type {\n",
       "        vertical-align: middle;\n",
       "    }\n",
       "\n",
       "    .dataframe tbody tr th {\n",
       "        vertical-align: top;\n",
       "    }\n",
       "\n",
       "    .dataframe thead th {\n",
       "        text-align: right;\n",
       "    }\n",
       "</style>\n",
       "<table border=\"1\" class=\"dataframe\">\n",
       "  <thead>\n",
       "    <tr style=\"text-align: right;\">\n",
       "      <th></th>\n",
       "      <th>msno</th>\n",
       "      <th>song_id</th>\n",
       "      <th>source_system_tab</th>\n",
       "      <th>source_screen_name</th>\n",
       "      <th>source_type</th>\n",
       "      <th>target</th>\n",
       "    </tr>\n",
       "  </thead>\n",
       "  <tbody>\n",
       "    <tr>\n",
       "      <th>0</th>\n",
       "      <td>FGtllVqz18RPiwJj/edr2gV78zirAiY/9SmYvia+kCg=</td>\n",
       "      <td>BBzumQNXUHKdEBOB7mAJuzok+IJA1c2Ryg/yzTF6tik=</td>\n",
       "      <td>explore</td>\n",
       "      <td>Explore</td>\n",
       "      <td>online-playlist</td>\n",
       "      <td>1</td>\n",
       "    </tr>\n",
       "    <tr>\n",
       "      <th>1</th>\n",
       "      <td>Xumu+NIjS6QYVxDS4/t3SawvJ7viT9hPKXmf0RtLNx8=</td>\n",
       "      <td>bhp/MpSNoqoxOIB+/l8WPqu6jldth4DIpCm3ayXnJqM=</td>\n",
       "      <td>my library</td>\n",
       "      <td>Local playlist more</td>\n",
       "      <td>local-playlist</td>\n",
       "      <td>1</td>\n",
       "    </tr>\n",
       "    <tr>\n",
       "      <th>2</th>\n",
       "      <td>Xumu+NIjS6QYVxDS4/t3SawvJ7viT9hPKXmf0RtLNx8=</td>\n",
       "      <td>JNWfrrC7zNN7BdMpsISKa4Mw+xVJYNnxXh3/Epw7QgY=</td>\n",
       "      <td>my library</td>\n",
       "      <td>Local playlist more</td>\n",
       "      <td>local-playlist</td>\n",
       "      <td>1</td>\n",
       "    </tr>\n",
       "    <tr>\n",
       "      <th>3</th>\n",
       "      <td>Xumu+NIjS6QYVxDS4/t3SawvJ7viT9hPKXmf0RtLNx8=</td>\n",
       "      <td>2A87tzfnJTSWqD7gIZHisolhe4DMdzkbd6LzO1KHjNs=</td>\n",
       "      <td>my library</td>\n",
       "      <td>Local playlist more</td>\n",
       "      <td>local-playlist</td>\n",
       "      <td>1</td>\n",
       "    </tr>\n",
       "    <tr>\n",
       "      <th>4</th>\n",
       "      <td>FGtllVqz18RPiwJj/edr2gV78zirAiY/9SmYvia+kCg=</td>\n",
       "      <td>3qm6XTZ6MOCU11x8FIVbAGH5l5uMkT3/ZalWG1oo2Gc=</td>\n",
       "      <td>explore</td>\n",
       "      <td>Explore</td>\n",
       "      <td>online-playlist</td>\n",
       "      <td>1</td>\n",
       "    </tr>\n",
       "    <tr>\n",
       "      <th>...</th>\n",
       "      <td>...</td>\n",
       "      <td>...</td>\n",
       "      <td>...</td>\n",
       "      <td>...</td>\n",
       "      <td>...</td>\n",
       "      <td>...</td>\n",
       "    </tr>\n",
       "    <tr>\n",
       "      <th>7377413</th>\n",
       "      <td>6xdFzPlrasIDD95mQWXVC3Bg4ptnGYtBl4ztVEZMddU=</td>\n",
       "      <td>VJTxizih/o28kXCbtPbIyWXScoXGvxyYtl6R+0YB5JM=</td>\n",
       "      <td>my library</td>\n",
       "      <td>Local playlist more</td>\n",
       "      <td>local-playlist</td>\n",
       "      <td>1</td>\n",
       "    </tr>\n",
       "    <tr>\n",
       "      <th>7377414</th>\n",
       "      <td>ZxbVmt3Kh/XOH+h58c2Kdj6SjFZk+wnUO006IgWzMQE=</td>\n",
       "      <td>z1mqaU9YOX7T/PFDvUoWozdFq7rC3KwaQP7nFVprjMI=</td>\n",
       "      <td>search</td>\n",
       "      <td>Search</td>\n",
       "      <td>song</td>\n",
       "      <td>0</td>\n",
       "    </tr>\n",
       "    <tr>\n",
       "      <th>7377415</th>\n",
       "      <td>ZxbVmt3Kh/XOH+h58c2Kdj6SjFZk+wnUO006IgWzMQE=</td>\n",
       "      <td>750RprmFfLV0bymtDH88g24pLZGVi5VpBAI300P6UOA=</td>\n",
       "      <td>search</td>\n",
       "      <td>Search</td>\n",
       "      <td>song</td>\n",
       "      <td>1</td>\n",
       "    </tr>\n",
       "    <tr>\n",
       "      <th>7377416</th>\n",
       "      <td>0aH4Hd3ziPSRHClRX8rkeOEaAG5EPPkW1mKGCdXEok0=</td>\n",
       "      <td>G8wgqObgeAMER/rVCIlgcNeQ8mm0CzF/GsxiMK8TTnA=</td>\n",
       "      <td>discover</td>\n",
       "      <td>Discover Genre</td>\n",
       "      <td>online-playlist</td>\n",
       "      <td>1</td>\n",
       "    </tr>\n",
       "    <tr>\n",
       "      <th>7377417</th>\n",
       "      <td>0aH4Hd3ziPSRHClRX8rkeOEaAG5EPPkW1mKGCdXEok0=</td>\n",
       "      <td>Ju0VGkjWeBUZCd7r5Az2hUImhMoWxWLUicOedsmvG0g=</td>\n",
       "      <td>discover</td>\n",
       "      <td>Discover Genre</td>\n",
       "      <td>online-playlist</td>\n",
       "      <td>1</td>\n",
       "    </tr>\n",
       "  </tbody>\n",
       "</table>\n",
       "<p>7377418 rows × 6 columns</p>\n",
       "</div>"
      ],
      "text/plain": [
       "                                                 msno  \\\n",
       "0        FGtllVqz18RPiwJj/edr2gV78zirAiY/9SmYvia+kCg=   \n",
       "1        Xumu+NIjS6QYVxDS4/t3SawvJ7viT9hPKXmf0RtLNx8=   \n",
       "2        Xumu+NIjS6QYVxDS4/t3SawvJ7viT9hPKXmf0RtLNx8=   \n",
       "3        Xumu+NIjS6QYVxDS4/t3SawvJ7viT9hPKXmf0RtLNx8=   \n",
       "4        FGtllVqz18RPiwJj/edr2gV78zirAiY/9SmYvia+kCg=   \n",
       "...                                               ...   \n",
       "7377413  6xdFzPlrasIDD95mQWXVC3Bg4ptnGYtBl4ztVEZMddU=   \n",
       "7377414  ZxbVmt3Kh/XOH+h58c2Kdj6SjFZk+wnUO006IgWzMQE=   \n",
       "7377415  ZxbVmt3Kh/XOH+h58c2Kdj6SjFZk+wnUO006IgWzMQE=   \n",
       "7377416  0aH4Hd3ziPSRHClRX8rkeOEaAG5EPPkW1mKGCdXEok0=   \n",
       "7377417  0aH4Hd3ziPSRHClRX8rkeOEaAG5EPPkW1mKGCdXEok0=   \n",
       "\n",
       "                                              song_id source_system_tab  \\\n",
       "0        BBzumQNXUHKdEBOB7mAJuzok+IJA1c2Ryg/yzTF6tik=           explore   \n",
       "1        bhp/MpSNoqoxOIB+/l8WPqu6jldth4DIpCm3ayXnJqM=        my library   \n",
       "2        JNWfrrC7zNN7BdMpsISKa4Mw+xVJYNnxXh3/Epw7QgY=        my library   \n",
       "3        2A87tzfnJTSWqD7gIZHisolhe4DMdzkbd6LzO1KHjNs=        my library   \n",
       "4        3qm6XTZ6MOCU11x8FIVbAGH5l5uMkT3/ZalWG1oo2Gc=           explore   \n",
       "...                                               ...               ...   \n",
       "7377413  VJTxizih/o28kXCbtPbIyWXScoXGvxyYtl6R+0YB5JM=        my library   \n",
       "7377414  z1mqaU9YOX7T/PFDvUoWozdFq7rC3KwaQP7nFVprjMI=            search   \n",
       "7377415  750RprmFfLV0bymtDH88g24pLZGVi5VpBAI300P6UOA=            search   \n",
       "7377416  G8wgqObgeAMER/rVCIlgcNeQ8mm0CzF/GsxiMK8TTnA=          discover   \n",
       "7377417  Ju0VGkjWeBUZCd7r5Az2hUImhMoWxWLUicOedsmvG0g=          discover   \n",
       "\n",
       "          source_screen_name      source_type  target  \n",
       "0                    Explore  online-playlist       1  \n",
       "1        Local playlist more   local-playlist       1  \n",
       "2        Local playlist more   local-playlist       1  \n",
       "3        Local playlist more   local-playlist       1  \n",
       "4                    Explore  online-playlist       1  \n",
       "...                      ...              ...     ...  \n",
       "7377413  Local playlist more   local-playlist       1  \n",
       "7377414               Search             song       0  \n",
       "7377415               Search             song       1  \n",
       "7377416       Discover Genre  online-playlist       1  \n",
       "7377417       Discover Genre  online-playlist       1  \n",
       "\n",
       "[7377418 rows x 6 columns]"
      ]
     },
     "execution_count": 6,
     "metadata": {},
     "output_type": "execute_result"
    }
   ],
   "source": [
    "train_data"
   ]
  },
  {
   "cell_type": "code",
   "execution_count": 7,
   "id": "004d9cb2",
   "metadata": {},
   "outputs": [
    {
     "data": {
      "text/html": [
       "<div>\n",
       "<style scoped>\n",
       "    .dataframe tbody tr th:only-of-type {\n",
       "        vertical-align: middle;\n",
       "    }\n",
       "\n",
       "    .dataframe tbody tr th {\n",
       "        vertical-align: top;\n",
       "    }\n",
       "\n",
       "    .dataframe thead th {\n",
       "        text-align: right;\n",
       "    }\n",
       "</style>\n",
       "<table border=\"1\" class=\"dataframe\">\n",
       "  <thead>\n",
       "    <tr style=\"text-align: right;\">\n",
       "      <th></th>\n",
       "      <th>id</th>\n",
       "      <th>msno</th>\n",
       "      <th>song_id</th>\n",
       "      <th>source_system_tab</th>\n",
       "      <th>source_screen_name</th>\n",
       "      <th>source_type</th>\n",
       "    </tr>\n",
       "  </thead>\n",
       "  <tbody>\n",
       "    <tr>\n",
       "      <th>0</th>\n",
       "      <td>0</td>\n",
       "      <td>V8ruy7SGk7tDm3zA51DPpn6qutt+vmKMBKa21dp54uM=</td>\n",
       "      <td>WmHKgKMlp1lQMecNdNvDMkvIycZYHnFwDT72I5sIssc=</td>\n",
       "      <td>my library</td>\n",
       "      <td>Local playlist more</td>\n",
       "      <td>local-library</td>\n",
       "    </tr>\n",
       "    <tr>\n",
       "      <th>1</th>\n",
       "      <td>1</td>\n",
       "      <td>V8ruy7SGk7tDm3zA51DPpn6qutt+vmKMBKa21dp54uM=</td>\n",
       "      <td>y/rsZ9DC7FwK5F2PK2D5mj+aOBUJAjuu3dZ14NgE0vM=</td>\n",
       "      <td>my library</td>\n",
       "      <td>Local playlist more</td>\n",
       "      <td>local-library</td>\n",
       "    </tr>\n",
       "    <tr>\n",
       "      <th>2</th>\n",
       "      <td>2</td>\n",
       "      <td>/uQAlrAkaczV+nWCd2sPF2ekvXPRipV7q0l+gbLuxjw=</td>\n",
       "      <td>8eZLFOdGVdXBSqoAv5nsLigeH2BvKXzTQYtUM53I0k4=</td>\n",
       "      <td>discover</td>\n",
       "      <td>NaN</td>\n",
       "      <td>song-based-playlist</td>\n",
       "    </tr>\n",
       "    <tr>\n",
       "      <th>3</th>\n",
       "      <td>3</td>\n",
       "      <td>1a6oo/iXKatxQx4eS9zTVD+KlSVaAFbTIqVvwLC1Y0k=</td>\n",
       "      <td>ztCf8thYsS4YN3GcIL/bvoxLm/T5mYBVKOO4C9NiVfQ=</td>\n",
       "      <td>radio</td>\n",
       "      <td>Radio</td>\n",
       "      <td>radio</td>\n",
       "    </tr>\n",
       "    <tr>\n",
       "      <th>4</th>\n",
       "      <td>4</td>\n",
       "      <td>1a6oo/iXKatxQx4eS9zTVD+KlSVaAFbTIqVvwLC1Y0k=</td>\n",
       "      <td>MKVMpslKcQhMaFEgcEQhEfi5+RZhMYlU3eRDpySrH8Y=</td>\n",
       "      <td>radio</td>\n",
       "      <td>Radio</td>\n",
       "      <td>radio</td>\n",
       "    </tr>\n",
       "    <tr>\n",
       "      <th>...</th>\n",
       "      <td>...</td>\n",
       "      <td>...</td>\n",
       "      <td>...</td>\n",
       "      <td>...</td>\n",
       "      <td>...</td>\n",
       "      <td>...</td>\n",
       "    </tr>\n",
       "    <tr>\n",
       "      <th>2556785</th>\n",
       "      <td>2556785</td>\n",
       "      <td>XmA/cIkXJ8jZUfsUc4bBfJVWMMqmylnPW0WVkg/iz0s=</td>\n",
       "      <td>wJoWzZd7AL+qX9xZWZwRTzGRYg0Lxcl5Pe+9n5hZgAQ=</td>\n",
       "      <td>discover</td>\n",
       "      <td>Online playlist more</td>\n",
       "      <td>online-playlist</td>\n",
       "    </tr>\n",
       "    <tr>\n",
       "      <th>2556786</th>\n",
       "      <td>2556786</td>\n",
       "      <td>jvbujcxCExG0CrPShsEmZ6pePcHuRqru2OLEUw85iGk=</td>\n",
       "      <td>KCJ8BlSfRQRgB7EVuzFvg52AhR8m2fT032MzN5ewbEI=</td>\n",
       "      <td>discover</td>\n",
       "      <td>NaN</td>\n",
       "      <td>online-playlist</td>\n",
       "    </tr>\n",
       "    <tr>\n",
       "      <th>2556787</th>\n",
       "      <td>2556787</td>\n",
       "      <td>jvbujcxCExG0CrPShsEmZ6pePcHuRqru2OLEUw85iGk=</td>\n",
       "      <td>ySDsKJSnhFMESzC9mBhY0hnFEEBWDYx0FOMNcYDLb/A=</td>\n",
       "      <td>discover</td>\n",
       "      <td>NaN</td>\n",
       "      <td>online-playlist</td>\n",
       "    </tr>\n",
       "    <tr>\n",
       "      <th>2556788</th>\n",
       "      <td>2556788</td>\n",
       "      <td>jvbujcxCExG0CrPShsEmZ6pePcHuRqru2OLEUw85iGk=</td>\n",
       "      <td>WXH8kL8e+0H2jY+s2Y6FpHyyHdaMYV3b6yfDa3FAt9U=</td>\n",
       "      <td>discover</td>\n",
       "      <td>NaN</td>\n",
       "      <td>online-playlist</td>\n",
       "    </tr>\n",
       "    <tr>\n",
       "      <th>2556789</th>\n",
       "      <td>2556789</td>\n",
       "      <td>jvbujcxCExG0CrPShsEmZ6pePcHuRqru2OLEUw85iGk=</td>\n",
       "      <td>ftPDlhAywvcZX7ojE6F+9CDsC22UKX96iEr4W0ciPec=</td>\n",
       "      <td>discover</td>\n",
       "      <td>NaN</td>\n",
       "      <td>online-playlist</td>\n",
       "    </tr>\n",
       "  </tbody>\n",
       "</table>\n",
       "<p>2556790 rows × 6 columns</p>\n",
       "</div>"
      ],
      "text/plain": [
       "              id                                          msno  \\\n",
       "0              0  V8ruy7SGk7tDm3zA51DPpn6qutt+vmKMBKa21dp54uM=   \n",
       "1              1  V8ruy7SGk7tDm3zA51DPpn6qutt+vmKMBKa21dp54uM=   \n",
       "2              2  /uQAlrAkaczV+nWCd2sPF2ekvXPRipV7q0l+gbLuxjw=   \n",
       "3              3  1a6oo/iXKatxQx4eS9zTVD+KlSVaAFbTIqVvwLC1Y0k=   \n",
       "4              4  1a6oo/iXKatxQx4eS9zTVD+KlSVaAFbTIqVvwLC1Y0k=   \n",
       "...          ...                                           ...   \n",
       "2556785  2556785  XmA/cIkXJ8jZUfsUc4bBfJVWMMqmylnPW0WVkg/iz0s=   \n",
       "2556786  2556786  jvbujcxCExG0CrPShsEmZ6pePcHuRqru2OLEUw85iGk=   \n",
       "2556787  2556787  jvbujcxCExG0CrPShsEmZ6pePcHuRqru2OLEUw85iGk=   \n",
       "2556788  2556788  jvbujcxCExG0CrPShsEmZ6pePcHuRqru2OLEUw85iGk=   \n",
       "2556789  2556789  jvbujcxCExG0CrPShsEmZ6pePcHuRqru2OLEUw85iGk=   \n",
       "\n",
       "                                              song_id source_system_tab  \\\n",
       "0        WmHKgKMlp1lQMecNdNvDMkvIycZYHnFwDT72I5sIssc=        my library   \n",
       "1        y/rsZ9DC7FwK5F2PK2D5mj+aOBUJAjuu3dZ14NgE0vM=        my library   \n",
       "2        8eZLFOdGVdXBSqoAv5nsLigeH2BvKXzTQYtUM53I0k4=          discover   \n",
       "3        ztCf8thYsS4YN3GcIL/bvoxLm/T5mYBVKOO4C9NiVfQ=             radio   \n",
       "4        MKVMpslKcQhMaFEgcEQhEfi5+RZhMYlU3eRDpySrH8Y=             radio   \n",
       "...                                               ...               ...   \n",
       "2556785  wJoWzZd7AL+qX9xZWZwRTzGRYg0Lxcl5Pe+9n5hZgAQ=          discover   \n",
       "2556786  KCJ8BlSfRQRgB7EVuzFvg52AhR8m2fT032MzN5ewbEI=          discover   \n",
       "2556787  ySDsKJSnhFMESzC9mBhY0hnFEEBWDYx0FOMNcYDLb/A=          discover   \n",
       "2556788  WXH8kL8e+0H2jY+s2Y6FpHyyHdaMYV3b6yfDa3FAt9U=          discover   \n",
       "2556789  ftPDlhAywvcZX7ojE6F+9CDsC22UKX96iEr4W0ciPec=          discover   \n",
       "\n",
       "           source_screen_name          source_type  \n",
       "0         Local playlist more        local-library  \n",
       "1         Local playlist more        local-library  \n",
       "2                         NaN  song-based-playlist  \n",
       "3                       Radio                radio  \n",
       "4                       Radio                radio  \n",
       "...                       ...                  ...  \n",
       "2556785  Online playlist more      online-playlist  \n",
       "2556786                   NaN      online-playlist  \n",
       "2556787                   NaN      online-playlist  \n",
       "2556788                   NaN      online-playlist  \n",
       "2556789                   NaN      online-playlist  \n",
       "\n",
       "[2556790 rows x 6 columns]"
      ]
     },
     "execution_count": 7,
     "metadata": {},
     "output_type": "execute_result"
    }
   ],
   "source": [
    "test_data"
   ]
  },
  {
   "cell_type": "code",
   "execution_count": 8,
   "id": "2b4efd71",
   "metadata": {},
   "outputs": [
    {
     "data": {
      "text/html": [
       "<div>\n",
       "<style scoped>\n",
       "    .dataframe tbody tr th:only-of-type {\n",
       "        vertical-align: middle;\n",
       "    }\n",
       "\n",
       "    .dataframe tbody tr th {\n",
       "        vertical-align: top;\n",
       "    }\n",
       "\n",
       "    .dataframe thead th {\n",
       "        text-align: right;\n",
       "    }\n",
       "</style>\n",
       "<table border=\"1\" class=\"dataframe\">\n",
       "  <thead>\n",
       "    <tr style=\"text-align: right;\">\n",
       "      <th></th>\n",
       "      <th>msno</th>\n",
       "      <th>city</th>\n",
       "      <th>bd</th>\n",
       "      <th>gender</th>\n",
       "      <th>registered_via</th>\n",
       "      <th>registration_init_time</th>\n",
       "      <th>expiration_date</th>\n",
       "    </tr>\n",
       "  </thead>\n",
       "  <tbody>\n",
       "    <tr>\n",
       "      <th>0</th>\n",
       "      <td>XQxgAYj3klVKjR3oxPPXYYFp4soD4TuBghkhMTD4oTw=</td>\n",
       "      <td>1</td>\n",
       "      <td>0</td>\n",
       "      <td>NaN</td>\n",
       "      <td>7</td>\n",
       "      <td>20110820</td>\n",
       "      <td>20170920</td>\n",
       "    </tr>\n",
       "    <tr>\n",
       "      <th>1</th>\n",
       "      <td>UizsfmJb9mV54qE9hCYyU07Va97c0lCRLEQX3ae+ztM=</td>\n",
       "      <td>1</td>\n",
       "      <td>0</td>\n",
       "      <td>NaN</td>\n",
       "      <td>7</td>\n",
       "      <td>20150628</td>\n",
       "      <td>20170622</td>\n",
       "    </tr>\n",
       "    <tr>\n",
       "      <th>2</th>\n",
       "      <td>D8nEhsIOBSoE6VthTaqDX8U6lqjJ7dLdr72mOyLya2A=</td>\n",
       "      <td>1</td>\n",
       "      <td>0</td>\n",
       "      <td>NaN</td>\n",
       "      <td>4</td>\n",
       "      <td>20160411</td>\n",
       "      <td>20170712</td>\n",
       "    </tr>\n",
       "    <tr>\n",
       "      <th>3</th>\n",
       "      <td>mCuD+tZ1hERA/o5GPqk38e041J8ZsBaLcu7nGoIIvhI=</td>\n",
       "      <td>1</td>\n",
       "      <td>0</td>\n",
       "      <td>NaN</td>\n",
       "      <td>9</td>\n",
       "      <td>20150906</td>\n",
       "      <td>20150907</td>\n",
       "    </tr>\n",
       "    <tr>\n",
       "      <th>4</th>\n",
       "      <td>q4HRBfVSssAFS9iRfxWrohxuk9kCYMKjHOEagUMV6rQ=</td>\n",
       "      <td>1</td>\n",
       "      <td>0</td>\n",
       "      <td>NaN</td>\n",
       "      <td>4</td>\n",
       "      <td>20170126</td>\n",
       "      <td>20170613</td>\n",
       "    </tr>\n",
       "    <tr>\n",
       "      <th>...</th>\n",
       "      <td>...</td>\n",
       "      <td>...</td>\n",
       "      <td>...</td>\n",
       "      <td>...</td>\n",
       "      <td>...</td>\n",
       "      <td>...</td>\n",
       "      <td>...</td>\n",
       "    </tr>\n",
       "    <tr>\n",
       "      <th>34398</th>\n",
       "      <td>Wwd/cudKVuLJ3txRVxlg2Zaeliu+LRUfiBmfrnxhRCY=</td>\n",
       "      <td>1</td>\n",
       "      <td>0</td>\n",
       "      <td>NaN</td>\n",
       "      <td>7</td>\n",
       "      <td>20131111</td>\n",
       "      <td>20170910</td>\n",
       "    </tr>\n",
       "    <tr>\n",
       "      <th>34399</th>\n",
       "      <td>g3JGnJX6Hg50lFbrNWfsHwCUmApIkiv2M8sXOaeXoIQ=</td>\n",
       "      <td>4</td>\n",
       "      <td>18</td>\n",
       "      <td>male</td>\n",
       "      <td>3</td>\n",
       "      <td>20141024</td>\n",
       "      <td>20170518</td>\n",
       "    </tr>\n",
       "    <tr>\n",
       "      <th>34400</th>\n",
       "      <td>IMaPMJuyN+ip9Vqi+z2XuXbFAP2kbHr+EvvCNkFfj+o=</td>\n",
       "      <td>1</td>\n",
       "      <td>0</td>\n",
       "      <td>NaN</td>\n",
       "      <td>7</td>\n",
       "      <td>20130802</td>\n",
       "      <td>20170908</td>\n",
       "    </tr>\n",
       "    <tr>\n",
       "      <th>34401</th>\n",
       "      <td>WAnCAJjUty9Stv8yKtV7ZC7PN+ilOy5FX3aIJgGPANM=</td>\n",
       "      <td>1</td>\n",
       "      <td>0</td>\n",
       "      <td>NaN</td>\n",
       "      <td>7</td>\n",
       "      <td>20151020</td>\n",
       "      <td>20170920</td>\n",
       "    </tr>\n",
       "    <tr>\n",
       "      <th>34402</th>\n",
       "      <td>xH8KpzKGeNNq6dOvy51c/8VzqOiGG+m6vabhsPSDHX4=</td>\n",
       "      <td>1</td>\n",
       "      <td>0</td>\n",
       "      <td>NaN</td>\n",
       "      <td>4</td>\n",
       "      <td>20160815</td>\n",
       "      <td>20160818</td>\n",
       "    </tr>\n",
       "  </tbody>\n",
       "</table>\n",
       "<p>34403 rows × 7 columns</p>\n",
       "</div>"
      ],
      "text/plain": [
       "                                               msno  city  bd gender  \\\n",
       "0      XQxgAYj3klVKjR3oxPPXYYFp4soD4TuBghkhMTD4oTw=     1   0    NaN   \n",
       "1      UizsfmJb9mV54qE9hCYyU07Va97c0lCRLEQX3ae+ztM=     1   0    NaN   \n",
       "2      D8nEhsIOBSoE6VthTaqDX8U6lqjJ7dLdr72mOyLya2A=     1   0    NaN   \n",
       "3      mCuD+tZ1hERA/o5GPqk38e041J8ZsBaLcu7nGoIIvhI=     1   0    NaN   \n",
       "4      q4HRBfVSssAFS9iRfxWrohxuk9kCYMKjHOEagUMV6rQ=     1   0    NaN   \n",
       "...                                             ...   ...  ..    ...   \n",
       "34398  Wwd/cudKVuLJ3txRVxlg2Zaeliu+LRUfiBmfrnxhRCY=     1   0    NaN   \n",
       "34399  g3JGnJX6Hg50lFbrNWfsHwCUmApIkiv2M8sXOaeXoIQ=     4  18   male   \n",
       "34400  IMaPMJuyN+ip9Vqi+z2XuXbFAP2kbHr+EvvCNkFfj+o=     1   0    NaN   \n",
       "34401  WAnCAJjUty9Stv8yKtV7ZC7PN+ilOy5FX3aIJgGPANM=     1   0    NaN   \n",
       "34402  xH8KpzKGeNNq6dOvy51c/8VzqOiGG+m6vabhsPSDHX4=     1   0    NaN   \n",
       "\n",
       "       registered_via  registration_init_time  expiration_date  \n",
       "0                   7                20110820         20170920  \n",
       "1                   7                20150628         20170622  \n",
       "2                   4                20160411         20170712  \n",
       "3                   9                20150906         20150907  \n",
       "4                   4                20170126         20170613  \n",
       "...               ...                     ...              ...  \n",
       "34398               7                20131111         20170910  \n",
       "34399               3                20141024         20170518  \n",
       "34400               7                20130802         20170908  \n",
       "34401               7                20151020         20170920  \n",
       "34402               4                20160815         20160818  \n",
       "\n",
       "[34403 rows x 7 columns]"
      ]
     },
     "execution_count": 8,
     "metadata": {},
     "output_type": "execute_result"
    }
   ],
   "source": [
    "members_data"
   ]
  },
  {
   "cell_type": "code",
   "execution_count": 9,
   "id": "b6b0c1be",
   "metadata": {},
   "outputs": [
    {
     "data": {
      "text/html": [
       "<div>\n",
       "<style scoped>\n",
       "    .dataframe tbody tr th:only-of-type {\n",
       "        vertical-align: middle;\n",
       "    }\n",
       "\n",
       "    .dataframe tbody tr th {\n",
       "        vertical-align: top;\n",
       "    }\n",
       "\n",
       "    .dataframe thead th {\n",
       "        text-align: right;\n",
       "    }\n",
       "</style>\n",
       "<table border=\"1\" class=\"dataframe\">\n",
       "  <thead>\n",
       "    <tr style=\"text-align: right;\">\n",
       "      <th></th>\n",
       "      <th>id</th>\n",
       "      <th>target</th>\n",
       "    </tr>\n",
       "  </thead>\n",
       "  <tbody>\n",
       "    <tr>\n",
       "      <th>0</th>\n",
       "      <td>0</td>\n",
       "      <td>0.5</td>\n",
       "    </tr>\n",
       "    <tr>\n",
       "      <th>1</th>\n",
       "      <td>1</td>\n",
       "      <td>0.5</td>\n",
       "    </tr>\n",
       "    <tr>\n",
       "      <th>2</th>\n",
       "      <td>2</td>\n",
       "      <td>0.5</td>\n",
       "    </tr>\n",
       "    <tr>\n",
       "      <th>3</th>\n",
       "      <td>3</td>\n",
       "      <td>0.5</td>\n",
       "    </tr>\n",
       "    <tr>\n",
       "      <th>4</th>\n",
       "      <td>4</td>\n",
       "      <td>0.5</td>\n",
       "    </tr>\n",
       "    <tr>\n",
       "      <th>...</th>\n",
       "      <td>...</td>\n",
       "      <td>...</td>\n",
       "    </tr>\n",
       "    <tr>\n",
       "      <th>2556785</th>\n",
       "      <td>2556785</td>\n",
       "      <td>0.5</td>\n",
       "    </tr>\n",
       "    <tr>\n",
       "      <th>2556786</th>\n",
       "      <td>2556786</td>\n",
       "      <td>0.5</td>\n",
       "    </tr>\n",
       "    <tr>\n",
       "      <th>2556787</th>\n",
       "      <td>2556787</td>\n",
       "      <td>0.5</td>\n",
       "    </tr>\n",
       "    <tr>\n",
       "      <th>2556788</th>\n",
       "      <td>2556788</td>\n",
       "      <td>0.5</td>\n",
       "    </tr>\n",
       "    <tr>\n",
       "      <th>2556789</th>\n",
       "      <td>2556789</td>\n",
       "      <td>0.5</td>\n",
       "    </tr>\n",
       "  </tbody>\n",
       "</table>\n",
       "<p>2556790 rows × 2 columns</p>\n",
       "</div>"
      ],
      "text/plain": [
       "              id  target\n",
       "0              0     0.5\n",
       "1              1     0.5\n",
       "2              2     0.5\n",
       "3              3     0.5\n",
       "4              4     0.5\n",
       "...          ...     ...\n",
       "2556785  2556785     0.5\n",
       "2556786  2556786     0.5\n",
       "2556787  2556787     0.5\n",
       "2556788  2556788     0.5\n",
       "2556789  2556789     0.5\n",
       "\n",
       "[2556790 rows x 2 columns]"
      ]
     },
     "execution_count": 9,
     "metadata": {},
     "output_type": "execute_result"
    }
   ],
   "source": [
    "sample_submission_data"
   ]
  },
  {
   "cell_type": "code",
   "execution_count": 10,
   "id": "9d6e5075",
   "metadata": {},
   "outputs": [
    {
     "name": "stdout",
     "output_type": "stream",
     "text": [
      "<class 'pandas.core.frame.DataFrame'>\n",
      "RangeIndex: 2296320 entries, 0 to 2296319\n",
      "Data columns (total 7 columns):\n",
      " #   Column       Dtype  \n",
      "---  ------       -----  \n",
      " 0   song_id      object \n",
      " 1   song_length  int64  \n",
      " 2   genre_ids    object \n",
      " 3   artist_name  object \n",
      " 4   composer     object \n",
      " 5   lyricist     object \n",
      " 6   language     float64\n",
      "dtypes: float64(1), int64(1), object(5)\n",
      "memory usage: 122.6+ MB\n"
     ]
    }
   ],
   "source": [
    "songs_data.info()"
   ]
  },
  {
   "cell_type": "code",
   "execution_count": 11,
   "id": "5ebdc020",
   "metadata": {},
   "outputs": [
    {
     "name": "stdout",
     "output_type": "stream",
     "text": [
      "<class 'pandas.core.frame.DataFrame'>\n",
      "RangeIndex: 2295971 entries, 0 to 2295970\n",
      "Data columns (total 3 columns):\n",
      " #   Column   Dtype \n",
      "---  ------   ----- \n",
      " 0   song_id  object\n",
      " 1   name     object\n",
      " 2   isrc     object\n",
      "dtypes: object(3)\n",
      "memory usage: 52.6+ MB\n"
     ]
    }
   ],
   "source": [
    "songs_extra_info.info()"
   ]
  },
  {
   "cell_type": "code",
   "execution_count": 12,
   "id": "293ecac6",
   "metadata": {},
   "outputs": [
    {
     "name": "stdout",
     "output_type": "stream",
     "text": [
      "<class 'pandas.core.frame.DataFrame'>\n",
      "RangeIndex: 7377418 entries, 0 to 7377417\n",
      "Data columns (total 6 columns):\n",
      " #   Column              Dtype \n",
      "---  ------              ----- \n",
      " 0   msno                object\n",
      " 1   song_id             object\n",
      " 2   source_system_tab   object\n",
      " 3   source_screen_name  object\n",
      " 4   source_type         object\n",
      " 5   target              int64 \n",
      "dtypes: int64(1), object(5)\n",
      "memory usage: 337.7+ MB\n"
     ]
    }
   ],
   "source": [
    "train_data.info()"
   ]
  },
  {
   "cell_type": "code",
   "execution_count": 13,
   "id": "61bf2998",
   "metadata": {},
   "outputs": [
    {
     "name": "stdout",
     "output_type": "stream",
     "text": [
      "<class 'pandas.core.frame.DataFrame'>\n",
      "RangeIndex: 2556790 entries, 0 to 2556789\n",
      "Data columns (total 6 columns):\n",
      " #   Column              Dtype \n",
      "---  ------              ----- \n",
      " 0   id                  int64 \n",
      " 1   msno                object\n",
      " 2   song_id             object\n",
      " 3   source_system_tab   object\n",
      " 4   source_screen_name  object\n",
      " 5   source_type         object\n",
      "dtypes: int64(1), object(5)\n",
      "memory usage: 117.0+ MB\n"
     ]
    }
   ],
   "source": [
    "test_data.info()"
   ]
  },
  {
   "cell_type": "code",
   "execution_count": 14,
   "id": "f543e651",
   "metadata": {},
   "outputs": [
    {
     "name": "stdout",
     "output_type": "stream",
     "text": [
      "<class 'pandas.core.frame.DataFrame'>\n",
      "RangeIndex: 34403 entries, 0 to 34402\n",
      "Data columns (total 7 columns):\n",
      " #   Column                  Non-Null Count  Dtype \n",
      "---  ------                  --------------  ----- \n",
      " 0   msno                    34403 non-null  object\n",
      " 1   city                    34403 non-null  int64 \n",
      " 2   bd                      34403 non-null  int64 \n",
      " 3   gender                  14501 non-null  object\n",
      " 4   registered_via          34403 non-null  int64 \n",
      " 5   registration_init_time  34403 non-null  int64 \n",
      " 6   expiration_date         34403 non-null  int64 \n",
      "dtypes: int64(5), object(2)\n",
      "memory usage: 1.8+ MB\n"
     ]
    }
   ],
   "source": [
    "members_data.info()"
   ]
  },
  {
   "cell_type": "code",
   "execution_count": 16,
   "id": "2a805f3f",
   "metadata": {},
   "outputs": [
    {
     "name": "stdout",
     "output_type": "stream",
     "text": [
      "<class 'pandas.core.frame.DataFrame'>\n",
      "RangeIndex: 2556790 entries, 0 to 2556789\n",
      "Data columns (total 2 columns):\n",
      " #   Column  Dtype  \n",
      "---  ------  -----  \n",
      " 0   id      int64  \n",
      " 1   target  float64\n",
      "dtypes: float64(1), int64(1)\n",
      "memory usage: 39.0 MB\n"
     ]
    }
   ],
   "source": [
    "sample_submission_data.info()"
   ]
  },
  {
   "cell_type": "code",
   "execution_count": 18,
   "id": "e5fd13d7",
   "metadata": {},
   "outputs": [
    {
     "data": {
      "image/png": "[encoded data removed]",
      "text/plain": [
       "<Figure size 1300x800 with 1 Axes>"
      ]
     },
     "metadata": {},
     "output_type": "display_data"
    }
   ],
   "source": [
    "plt.figure(figsize = (13, 8))\n",
    "sns.set_style(\"darkgrid\")\n",
    "ax = sns.countplot(x = songs_data.language, data = songs_data.language,palette=\"rocket\",)\n",
    "ax.set_title(\"Countplot for languages\")\n",
    "plt.show()"
   ]
  },
  {
   "cell_type": "code",
   "execution_count": 19,
   "id": "b90a9d25",
   "metadata": {},
   "outputs": [
    {
     "name": "stderr",
     "output_type": "stream",
     "text": [
      "C:\\Users\\D\\AppData\\Local\\Temp\\ipykernel_13772\\222923759.py:3: UserWarning: \n",
      "\n",
      "`distplot` is a deprecated function and will be removed in seaborn v0.14.0.\n",
      "\n",
      "Please adapt your code to use either `displot` (a figure-level function with\n",
      "similar flexibility) or `histplot` (an axes-level function for histograms).\n",
      "\n",
      "For a guide to updating your code to use the new functions, please see\n",
      "https://gist.github.com/mwaskom/de44147ed2974457ad6372750bbe5751\n",
      "\n",
      "  ax = sns.distplot(songs_data.song_length/60000, color='m')\n"
     ]
    },
    {
     "data": {
      "image/png": "[encoded data removed]",
      "text/plain": [
       "<Figure size 1300x800 with 1 Axes>"
      ]
     },
     "metadata": {},
     "output_type": "display_data"
    }
   ],
   "source": [
    "plt.figure(figsize=(13, 8))\n",
    "sns.set_style(\"darkgrid\")\n",
    "ax = sns.distplot(songs_data.song_length/60000, color='m')\n",
    "ax.set_title('Distplot of Song Length', fontsize=15)\n",
    "ax.set(xlabel='Song Length', ylabel='Count')\n",
    "plt.show()"
   ]
  },
  {
   "cell_type": "code",
   "execution_count": 20,
   "id": "1f31b431",
   "metadata": {},
   "outputs": [
    {
     "data": {
      "text/plain": [
       "song_id              0\n",
       "song_length          0\n",
       "genre_ids        94116\n",
       "artist_name          0\n",
       "composer       1071354\n",
       "lyricist       1945268\n",
       "language             1\n",
       "dtype: int64"
      ]
     },
     "execution_count": 20,
     "metadata": {},
     "output_type": "execute_result"
    }
   ],
   "source": [
    "songs_data.isnull().sum()"
   ]
  },
  {
   "cell_type": "code",
   "execution_count": 21,
   "id": "15a3c50f",
   "metadata": {},
   "outputs": [
    {
     "data": {
      "text/plain": [
       "465              567911\n",
       "958              176349\n",
       "2022             168870\n",
       "1609             166457\n",
       "2122             139938\n",
       "                  ...  \n",
       "465|139|388           1\n",
       "409|1609              1\n",
       "139|94|2022           1\n",
       "352|1944|1995         1\n",
       "1138|2022             1\n",
       "Name: genre_ids, Length: 1045, dtype: int64"
      ]
     },
     "execution_count": 21,
     "metadata": {},
     "output_type": "execute_result"
    }
   ],
   "source": [
    "songs_data.genre_ids.value_counts()    "
   ]
  },
  {
   "cell_type": "code",
   "execution_count": 22,
   "id": "9b1f3430",
   "metadata": {},
   "outputs": [],
   "source": [
    "songs_data['genre_ids'].fillna('465',inplace=True)"
   ]
  },
  {
   "cell_type": "code",
   "execution_count": 23,
   "id": "d9f46a8e",
   "metadata": {},
   "outputs": [
    {
     "data": {
      "text/plain": [
       " 52.0    1336694\n",
       "-1.0      639467\n",
       " 3.0      106295\n",
       " 17.0      92518\n",
       " 24.0      41744\n",
       " 31.0      39201\n",
       " 10.0      15482\n",
       " 45.0      14435\n",
       " 59.0       8098\n",
       " 38.0       2385\n",
       "Name: language, dtype: int64"
      ]
     },
     "execution_count": 23,
     "metadata": {},
     "output_type": "execute_result"
    }
   ],
   "source": [
    "songs_data['language'].value_counts()"
   ]
  },
  {
   "cell_type": "code",
   "execution_count": 24,
   "id": "1cecb78a",
   "metadata": {},
   "outputs": [],
   "source": [
    "songs_data['language'].fillna(52.0,inplace=True)"
   ]
  },
  {
   "cell_type": "code",
   "execution_count": 25,
   "id": "5f167845",
   "metadata": {},
   "outputs": [],
   "source": [
    "songs_data.drop(['composer'], axis =1, inplace=True)\n",
    "songs_data.drop(['lyricist'], axis =1, inplace=True)"
   ]
  },
  {
   "cell_type": "code",
   "execution_count": 26,
   "id": "c20ec2fa",
   "metadata": {},
   "outputs": [
    {
     "data": {
      "text/plain": [
       "song_id        0\n",
       "song_length    0\n",
       "genre_ids      0\n",
       "artist_name    0\n",
       "language       0\n",
       "dtype: int64"
      ]
     },
     "execution_count": 26,
     "metadata": {},
     "output_type": "execute_result"
    }
   ],
   "source": [
    "songs_data.isnull().sum()"
   ]
  },
  {
   "cell_type": "code",
   "execution_count": 27,
   "id": "cc81603f",
   "metadata": {},
   "outputs": [
    {
     "data": {
      "text/html": [
       "<div>\n",
       "<style scoped>\n",
       "    .dataframe tbody tr th:only-of-type {\n",
       "        vertical-align: middle;\n",
       "    }\n",
       "\n",
       "    .dataframe tbody tr th {\n",
       "        vertical-align: top;\n",
       "    }\n",
       "\n",
       "    .dataframe thead th {\n",
       "        text-align: right;\n",
       "    }\n",
       "</style>\n",
       "<table border=\"1\" class=\"dataframe\">\n",
       "  <thead>\n",
       "    <tr style=\"text-align: right;\">\n",
       "      <th></th>\n",
       "      <th>song_id</th>\n",
       "      <th>song_length</th>\n",
       "      <th>genre_ids</th>\n",
       "      <th>artist_name</th>\n",
       "      <th>language</th>\n",
       "    </tr>\n",
       "  </thead>\n",
       "  <tbody>\n",
       "    <tr>\n",
       "      <th>0</th>\n",
       "      <td>CXoTN1eb7AI+DntdU1vbcwGRV4SCIDxZu+YD8JP8r4E=</td>\n",
       "      <td>247640</td>\n",
       "      <td>465</td>\n",
       "      <td>å¼µä¿¡å² (Jeff Chang)</td>\n",
       "      <td>3.0</td>\n",
       "    </tr>\n",
       "    <tr>\n",
       "      <th>1</th>\n",
       "      <td>o0kFgae9QtnYgRkVPqLJwa05zIhRlUjfF7O1tDw0ZDU=</td>\n",
       "      <td>197328</td>\n",
       "      <td>444</td>\n",
       "      <td>BLACKPINK</td>\n",
       "      <td>31.0</td>\n",
       "    </tr>\n",
       "    <tr>\n",
       "      <th>2</th>\n",
       "      <td>DwVvVurfpuz+XPuFvucclVQEyPqcpUkHR0ne1RQzPs0=</td>\n",
       "      <td>231781</td>\n",
       "      <td>465</td>\n",
       "      <td>SUPER JUNIOR</td>\n",
       "      <td>31.0</td>\n",
       "    </tr>\n",
       "    <tr>\n",
       "      <th>3</th>\n",
       "      <td>dKMBWoZyScdxSkihKG+Vf47nc18N9q4m58+b4e7dSSE=</td>\n",
       "      <td>273554</td>\n",
       "      <td>465</td>\n",
       "      <td>S.H.E</td>\n",
       "      <td>3.0</td>\n",
       "    </tr>\n",
       "    <tr>\n",
       "      <th>4</th>\n",
       "      <td>W3bqWd3T+VeHFzHAUfARgW9AvVRaF4N5Yzm4Mr6Eo/o=</td>\n",
       "      <td>140329</td>\n",
       "      <td>726</td>\n",
       "      <td>è²´æç²¾é¸</td>\n",
       "      <td>52.0</td>\n",
       "    </tr>\n",
       "    <tr>\n",
       "      <th>...</th>\n",
       "      <td>...</td>\n",
       "      <td>...</td>\n",
       "      <td>...</td>\n",
       "      <td>...</td>\n",
       "      <td>...</td>\n",
       "    </tr>\n",
       "    <tr>\n",
       "      <th>2296315</th>\n",
       "      <td>lg6rn7eV/ZNg0+P+x77kHUL7GDMfoL4eMtXxncseLNA=</td>\n",
       "      <td>20192</td>\n",
       "      <td>958</td>\n",
       "      <td>Catherine Collard</td>\n",
       "      <td>-1.0</td>\n",
       "    </tr>\n",
       "    <tr>\n",
       "      <th>2296316</th>\n",
       "      <td>nXi1lrSJe+gLoTTNky7If0mNPrIyCQCLwagwR6XopGU=</td>\n",
       "      <td>273391</td>\n",
       "      <td>465</td>\n",
       "      <td>ç´ææ  (Justine Chi)</td>\n",
       "      <td>3.0</td>\n",
       "    </tr>\n",
       "    <tr>\n",
       "      <th>2296317</th>\n",
       "      <td>9KxSvIjbJyJzfEVWnkMbgR6dyn6d54ot0N5FKyKqii8=</td>\n",
       "      <td>445172</td>\n",
       "      <td>1609</td>\n",
       "      <td>Various Artists</td>\n",
       "      <td>52.0</td>\n",
       "    </tr>\n",
       "    <tr>\n",
       "      <th>2296318</th>\n",
       "      <td>UO8Y2MR2sjOn2q/Tp8/lzZTGKmLEvwZ20oWanG4XnYc=</td>\n",
       "      <td>172669</td>\n",
       "      <td>465</td>\n",
       "      <td>Peter Paul &amp; Mary</td>\n",
       "      <td>52.0</td>\n",
       "    </tr>\n",
       "    <tr>\n",
       "      <th>2296319</th>\n",
       "      <td>V/9qPSUOGT0FeIGBhDIZRRz5Y5yyjdXC2Z/+bJExo5s=</td>\n",
       "      <td>270466</td>\n",
       "      <td>829</td>\n",
       "      <td>Kim Robertson</td>\n",
       "      <td>52.0</td>\n",
       "    </tr>\n",
       "  </tbody>\n",
       "</table>\n",
       "<p>2296320 rows × 5 columns</p>\n",
       "</div>"
      ],
      "text/plain": [
       "                                              song_id  song_length genre_ids  \\\n",
       "0        CXoTN1eb7AI+DntdU1vbcwGRV4SCIDxZu+YD8JP8r4E=       247640       465   \n",
       "1        o0kFgae9QtnYgRkVPqLJwa05zIhRlUjfF7O1tDw0ZDU=       197328       444   \n",
       "2        DwVvVurfpuz+XPuFvucclVQEyPqcpUkHR0ne1RQzPs0=       231781       465   \n",
       "3        dKMBWoZyScdxSkihKG+Vf47nc18N9q4m58+b4e7dSSE=       273554       465   \n",
       "4        W3bqWd3T+VeHFzHAUfARgW9AvVRaF4N5Yzm4Mr6Eo/o=       140329       726   \n",
       "...                                               ...          ...       ...   \n",
       "2296315  lg6rn7eV/ZNg0+P+x77kHUL7GDMfoL4eMtXxncseLNA=        20192       958   \n",
       "2296316  nXi1lrSJe+gLoTTNky7If0mNPrIyCQCLwagwR6XopGU=       273391       465   \n",
       "2296317  9KxSvIjbJyJzfEVWnkMbgR6dyn6d54ot0N5FKyKqii8=       445172      1609   \n",
       "2296318  UO8Y2MR2sjOn2q/Tp8/lzZTGKmLEvwZ20oWanG4XnYc=       172669       465   \n",
       "2296319  V/9qPSUOGT0FeIGBhDIZRRz5Y5yyjdXC2Z/+bJExo5s=       270466       829   \n",
       "\n",
       "                     artist_name  language  \n",
       "0         å¼µä¿¡å² (Jeff Chang)       3.0  \n",
       "1                      BLACKPINK      31.0  \n",
       "2                   SUPER JUNIOR      31.0  \n",
       "3                          S.H.E       3.0  \n",
       "4                   è²´æç²¾é¸      52.0  \n",
       "...                          ...       ...  \n",
       "2296315        Catherine Collard      -1.0  \n",
       "2296316  ç´ææ  (Justine Chi)       3.0  \n",
       "2296317          Various Artists      52.0  \n",
       "2296318        Peter Paul & Mary      52.0  \n",
       "2296319            Kim Robertson      52.0  \n",
       "\n",
       "[2296320 rows x 5 columns]"
      ]
     },
     "execution_count": 27,
     "metadata": {},
     "output_type": "execute_result"
    }
   ],
   "source": [
    "songs_data     "
   ]
  },
  {
   "cell_type": "code",
   "execution_count": 28,
   "id": "26f2efa3",
   "metadata": {},
   "outputs": [
    {
     "data": {
      "text/html": [
       "<div>\n",
       "<style scoped>\n",
       "    .dataframe tbody tr th:only-of-type {\n",
       "        vertical-align: middle;\n",
       "    }\n",
       "\n",
       "    .dataframe tbody tr th {\n",
       "        vertical-align: top;\n",
       "    }\n",
       "\n",
       "    .dataframe thead th {\n",
       "        text-align: right;\n",
       "    }\n",
       "</style>\n",
       "<table border=\"1\" class=\"dataframe\">\n",
       "  <thead>\n",
       "    <tr style=\"text-align: right;\">\n",
       "      <th></th>\n",
       "      <th>song_id</th>\n",
       "      <th>name</th>\n",
       "      <th>isrc</th>\n",
       "    </tr>\n",
       "  </thead>\n",
       "  <tbody>\n",
       "    <tr>\n",
       "      <th>0</th>\n",
       "      <td>LP7pLJoJFBvyuUwvu+oLzjT+bI+UeBPURCecJsX1jjs=</td>\n",
       "      <td>æå</td>\n",
       "      <td>TWUM71200043</td>\n",
       "    </tr>\n",
       "    <tr>\n",
       "      <th>1</th>\n",
       "      <td>ClazTFnk6r0Bnuie44bocdNMM3rdlrq0bCGAsGUWcHE=</td>\n",
       "      <td>Let Me Love You</td>\n",
       "      <td>QMZSY1600015</td>\n",
       "    </tr>\n",
       "    <tr>\n",
       "      <th>2</th>\n",
       "      <td>u2ja/bZE3zhCGxvbbOB3zOoUjx27u40cf5g09UXMoKQ=</td>\n",
       "      <td>åè«æ</td>\n",
       "      <td>TWA530887303</td>\n",
       "    </tr>\n",
       "    <tr>\n",
       "      <th>3</th>\n",
       "      <td>92Fqsy0+p6+RHe2EoLKjHahORHR1Kq1TBJoClW9v+Ts=</td>\n",
       "      <td>Classic</td>\n",
       "      <td>USSM11301446</td>\n",
       "    </tr>\n",
       "    <tr>\n",
       "      <th>4</th>\n",
       "      <td>0QFmz/+rJy1Q56C1DuYqT9hKKqi5TUqx0sN0IwvoHrw=</td>\n",
       "      <td>ææç¾",
       "ç¶²</td>\n",
       "      <td>TWA471306001</td>\n",
       "    </tr>\n",
       "  </tbody>\n",
       "</table>\n",
       "</div>"
      ],
      "text/plain": [
       "                                        song_id             name          isrc\n",
       "0  LP7pLJoJFBvyuUwvu+oLzjT+bI+UeBPURCecJsX1jjs=           æå  TWUM71200043\n",
       "1  ClazTFnk6r0Bnuie44bocdNMM3rdlrq0bCGAsGUWcHE=  Let Me Love You  QMZSY1600015\n",
       "2  u2ja/bZE3zhCGxvbbOB3zOoUjx27u40cf5g09UXMoKQ=        åè«æ  TWA530887303\n",
       "3  92Fqsy0+p6+RHe2EoLKjHahORHR1Kq1TBJoClW9v+Ts=          Classic  USSM11301446\n",
       "4  0QFmz/+rJy1Q56C1DuYqT9hKKqi5TUqx0sN0IwvoHrw=     ææç¾\n",
       "ç¶²  TWA471306001"
      ]
     },
     "execution_count": 28,
     "metadata": {},
     "output_type": "execute_result"
    }
   ],
   "source": [
    "songs_extra_info.head()"
   ]
  },
  {
   "cell_type": "code",
   "execution_count": 29,
   "id": "36264d3c",
   "metadata": {},
   "outputs": [
    {
     "data": {
      "text/plain": [
       "song_id         0\n",
       "name            2\n",
       "isrc       136548\n",
       "dtype: int64"
      ]
     },
     "execution_count": 29,
     "metadata": {},
     "output_type": "execute_result"
    }
   ],
   "source": [
    "songs_extra_info.isnull().sum()"
   ]
  },
  {
   "cell_type": "code",
   "execution_count": 30,
   "id": "74343112",
   "metadata": {},
   "outputs": [],
   "source": [
    "songs_extra_info.drop('isrc', axis = 1, inplace = True)"
   ]
  },
  {
   "cell_type": "code",
   "execution_count": 31,
   "id": "d5ee3d66",
   "metadata": {},
   "outputs": [
    {
     "data": {
      "text/html": [
       "<div>\n",
       "<style scoped>\n",
       "    .dataframe tbody tr th:only-of-type {\n",
       "        vertical-align: middle;\n",
       "    }\n",
       "\n",
       "    .dataframe tbody tr th {\n",
       "        vertical-align: top;\n",
       "    }\n",
       "\n",
       "    .dataframe thead th {\n",
       "        text-align: right;\n",
       "    }\n",
       "</style>\n",
       "<table border=\"1\" class=\"dataframe\">\n",
       "  <thead>\n",
       "    <tr style=\"text-align: right;\">\n",
       "      <th></th>\n",
       "      <th>msno</th>\n",
       "      <th>city</th>\n",
       "      <th>bd</th>\n",
       "      <th>gender</th>\n",
       "      <th>registered_via</th>\n",
       "      <th>registration_init_time</th>\n",
       "      <th>expiration_date</th>\n",
       "    </tr>\n",
       "  </thead>\n",
       "  <tbody>\n",
       "    <tr>\n",
       "      <th>0</th>\n",
       "      <td>XQxgAYj3klVKjR3oxPPXYYFp4soD4TuBghkhMTD4oTw=</td>\n",
       "      <td>1</td>\n",
       "      <td>0</td>\n",
       "      <td>NaN</td>\n",
       "      <td>7</td>\n",
       "      <td>20110820</td>\n",
       "      <td>20170920</td>\n",
       "    </tr>\n",
       "    <tr>\n",
       "      <th>1</th>\n",
       "      <td>UizsfmJb9mV54qE9hCYyU07Va97c0lCRLEQX3ae+ztM=</td>\n",
       "      <td>1</td>\n",
       "      <td>0</td>\n",
       "      <td>NaN</td>\n",
       "      <td>7</td>\n",
       "      <td>20150628</td>\n",
       "      <td>20170622</td>\n",
       "    </tr>\n",
       "    <tr>\n",
       "      <th>2</th>\n",
       "      <td>D8nEhsIOBSoE6VthTaqDX8U6lqjJ7dLdr72mOyLya2A=</td>\n",
       "      <td>1</td>\n",
       "      <td>0</td>\n",
       "      <td>NaN</td>\n",
       "      <td>4</td>\n",
       "      <td>20160411</td>\n",
       "      <td>20170712</td>\n",
       "    </tr>\n",
       "    <tr>\n",
       "      <th>3</th>\n",
       "      <td>mCuD+tZ1hERA/o5GPqk38e041J8ZsBaLcu7nGoIIvhI=</td>\n",
       "      <td>1</td>\n",
       "      <td>0</td>\n",
       "      <td>NaN</td>\n",
       "      <td>9</td>\n",
       "      <td>20150906</td>\n",
       "      <td>20150907</td>\n",
       "    </tr>\n",
       "    <tr>\n",
       "      <th>4</th>\n",
       "      <td>q4HRBfVSssAFS9iRfxWrohxuk9kCYMKjHOEagUMV6rQ=</td>\n",
       "      <td>1</td>\n",
       "      <td>0</td>\n",
       "      <td>NaN</td>\n",
       "      <td>4</td>\n",
       "      <td>20170126</td>\n",
       "      <td>20170613</td>\n",
       "    </tr>\n",
       "  </tbody>\n",
       "</table>\n",
       "</div>"
      ],
      "text/plain": [
       "                                           msno  city  bd gender  \\\n",
       "0  XQxgAYj3klVKjR3oxPPXYYFp4soD4TuBghkhMTD4oTw=     1   0    NaN   \n",
       "1  UizsfmJb9mV54qE9hCYyU07Va97c0lCRLEQX3ae+ztM=     1   0    NaN   \n",
       "2  D8nEhsIOBSoE6VthTaqDX8U6lqjJ7dLdr72mOyLya2A=     1   0    NaN   \n",
       "3  mCuD+tZ1hERA/o5GPqk38e041J8ZsBaLcu7nGoIIvhI=     1   0    NaN   \n",
       "4  q4HRBfVSssAFS9iRfxWrohxuk9kCYMKjHOEagUMV6rQ=     1   0    NaN   \n",
       "\n",
       "   registered_via  registration_init_time  expiration_date  \n",
       "0               7                20110820         20170920  \n",
       "1               7                20150628         20170622  \n",
       "2               4                20160411         20170712  \n",
       "3               9                20150906         20150907  \n",
       "4               4                20170126         20170613  "
      ]
     },
     "execution_count": 31,
     "metadata": {},
     "output_type": "execute_result"
    }
   ],
   "source": [
    "members_data.head()"
   ]
  },
  {
   "cell_type": "code",
   "execution_count": 32,
   "id": "3fe4aa29",
   "metadata": {},
   "outputs": [
    {
     "data": {
      "text/html": [
       "<div>\n",
       "<style scoped>\n",
       "    .dataframe tbody tr th:only-of-type {\n",
       "        vertical-align: middle;\n",
       "    }\n",
       "\n",
       "    .dataframe tbody tr th {\n",
       "        vertical-align: top;\n",
       "    }\n",
       "\n",
       "    .dataframe thead th {\n",
       "        text-align: right;\n",
       "    }\n",
       "</style>\n",
       "<table border=\"1\" class=\"dataframe\">\n",
       "  <thead>\n",
       "    <tr style=\"text-align: right;\">\n",
       "      <th></th>\n",
       "      <th>city</th>\n",
       "      <th>bd</th>\n",
       "      <th>registered_via</th>\n",
       "      <th>registration_init_time</th>\n",
       "      <th>expiration_date</th>\n",
       "    </tr>\n",
       "  </thead>\n",
       "  <tbody>\n",
       "    <tr>\n",
       "      <th>count</th>\n",
       "      <td>34403.000000</td>\n",
       "      <td>34403.000000</td>\n",
       "      <td>34403.000000</td>\n",
       "      <td>3.440300e+04</td>\n",
       "      <td>3.440300e+04</td>\n",
       "    </tr>\n",
       "    <tr>\n",
       "      <th>mean</th>\n",
       "      <td>5.371276</td>\n",
       "      <td>12.280935</td>\n",
       "      <td>5.953376</td>\n",
       "      <td>2.013994e+07</td>\n",
       "      <td>2.016901e+07</td>\n",
       "    </tr>\n",
       "    <tr>\n",
       "      <th>std</th>\n",
       "      <td>6.243929</td>\n",
       "      <td>18.170251</td>\n",
       "      <td>2.287534</td>\n",
       "      <td>2.954015e+04</td>\n",
       "      <td>7.320925e+03</td>\n",
       "    </tr>\n",
       "    <tr>\n",
       "      <th>min</th>\n",
       "      <td>1.000000</td>\n",
       "      <td>-43.000000</td>\n",
       "      <td>3.000000</td>\n",
       "      <td>2.004033e+07</td>\n",
       "      <td>1.970010e+07</td>\n",
       "    </tr>\n",
       "    <tr>\n",
       "      <th>25%</th>\n",
       "      <td>1.000000</td>\n",
       "      <td>0.000000</td>\n",
       "      <td>4.000000</td>\n",
       "      <td>2.012103e+07</td>\n",
       "      <td>2.017020e+07</td>\n",
       "    </tr>\n",
       "    <tr>\n",
       "      <th>50%</th>\n",
       "      <td>1.000000</td>\n",
       "      <td>0.000000</td>\n",
       "      <td>7.000000</td>\n",
       "      <td>2.015090e+07</td>\n",
       "      <td>2.017091e+07</td>\n",
       "    </tr>\n",
       "    <tr>\n",
       "      <th>75%</th>\n",
       "      <td>10.000000</td>\n",
       "      <td>25.000000</td>\n",
       "      <td>9.000000</td>\n",
       "      <td>2.016110e+07</td>\n",
       "      <td>2.017093e+07</td>\n",
       "    </tr>\n",
       "    <tr>\n",
       "      <th>max</th>\n",
       "      <td>22.000000</td>\n",
       "      <td>1051.000000</td>\n",
       "      <td>16.000000</td>\n",
       "      <td>2.017023e+07</td>\n",
       "      <td>2.020102e+07</td>\n",
       "    </tr>\n",
       "  </tbody>\n",
       "</table>\n",
       "</div>"
      ],
      "text/plain": [
       "               city            bd  registered_via  registration_init_time  \\\n",
       "count  34403.000000  34403.000000    34403.000000            3.440300e+04   \n",
       "mean       5.371276     12.280935        5.953376            2.013994e+07   \n",
       "std        6.243929     18.170251        2.287534            2.954015e+04   \n",
       "min        1.000000    -43.000000        3.000000            2.004033e+07   \n",
       "25%        1.000000      0.000000        4.000000            2.012103e+07   \n",
       "50%        1.000000      0.000000        7.000000            2.015090e+07   \n",
       "75%       10.000000     25.000000        9.000000            2.016110e+07   \n",
       "max       22.000000   1051.000000       16.000000            2.017023e+07   \n",
       "\n",
       "       expiration_date  \n",
       "count     3.440300e+04  \n",
       "mean      2.016901e+07  \n",
       "std       7.320925e+03  \n",
       "min       1.970010e+07  \n",
       "25%       2.017020e+07  \n",
       "50%       2.017091e+07  \n",
       "75%       2.017093e+07  \n",
       "max       2.020102e+07  "
      ]
     },
     "execution_count": 32,
     "metadata": {},
     "output_type": "execute_result"
    }
   ],
   "source": [
    "members_data.describe()"
   ]
  },
  {
   "cell_type": "code",
   "execution_count": 33,
   "id": "149c60b0",
   "metadata": {},
   "outputs": [
    {
     "data": {
      "text/plain": [
       "Text(0.5, 1.0, 'Count plot for Registration Method')"
      ]
     },
     "execution_count": 33,
     "metadata": {},
     "output_type": "execute_result"
    },
    {
     "data": {
      "image/png": "[encoded data removed]",
      "text/plain": [
       "<Figure size 600x600 with 1 Axes>"
      ]
     },
     "metadata": {},
     "output_type": "display_data"
    }
   ],
   "source": [
    "plt.figure(figsize=(6,6))\n",
    "sns.countplot(x='registered_via', data=members_data, palette='plasma_r')\n",
    "plt.xlabel('Registration method')\n",
    "plt.ylabel('Count')\n",
    "plt.xticks(rotation=0)\n",
    "plt.title('Count plot for Registration Method')"
   ]
  },
  {
   "cell_type": "code",
   "execution_count": 86,
   "id": "f53025f3",
   "metadata": {},
   "outputs": [
    {
     "data": {
      "text/plain": [
       "Text(0.5, 1.0, 'Count plot for gender')"
      ]
     },
     "execution_count": 86,
     "metadata": {},
     "output_type": "execute_result"
    },
    {
     "data": {
      "image/png": "[encoded data removed]",
      "text/plain": [
       "<Figure size 600x600 with 1 Axes>"
      ]
     },
     "metadata": {},
     "output_type": "display_data"
    }
   ],
   "source": [
    "# Create a count plot of the 'gender' column in the 'members_data' DataFrame\n",
    "plt.figure(figsize=(6, 6))\n",
    "sns.countplot(x='gender', data=members_data, palette='twilight')\n",
    "\n",
    "# Set the x-axis label to 'Gender' and the y-axis label to 'Count'\n",
    "plt.xlabel('Gender')\n",
    "plt.ylabel('Count')\n",
    "\n",
    "# Set the rotation of the x-axis tick labels to 0 degrees\n",
    "plt.xticks(rotation=0)\n",
    "\n",
    "# Set the title of the plot to 'Count plot for gender'\n",
    "plt.title('Count plot for gender')\n"
   ]
  },
  {
   "cell_type": "code",
   "execution_count": 87,
   "id": "d35b10ef",
   "metadata": {},
   "outputs": [
    {
     "data": {
      "text/plain": [
       "msno                      0\n",
       "city                      0\n",
       "bd                        0\n",
       "gender                    0\n",
       "registered_via            0\n",
       "registration_init_time    0\n",
       "expiration_date           0\n",
       "dtype: int64"
      ]
     },
     "execution_count": 87,
     "metadata": {},
     "output_type": "execute_result"
    }
   ],
   "source": [
    "members_data.isnull().sum()"
   ]
  },
  {
   "cell_type": "code",
   "execution_count": 88,
   "id": "baf15544",
   "metadata": {},
   "outputs": [],
   "source": [
    "members_data.fillna('male', inplace = True)"
   ]
  },
  {
   "cell_type": "code",
   "execution_count": 89,
   "id": "64b59642",
   "metadata": {},
   "outputs": [
    {
     "data": {
      "text/html": [
       "<div>\n",
       "<style scoped>\n",
       "    .dataframe tbody tr th:only-of-type {\n",
       "        vertical-align: middle;\n",
       "    }\n",
       "\n",
       "    .dataframe tbody tr th {\n",
       "        vertical-align: top;\n",
       "    }\n",
       "\n",
       "    .dataframe thead th {\n",
       "        text-align: right;\n",
       "    }\n",
       "</style>\n",
       "<table border=\"1\" class=\"dataframe\">\n",
       "  <thead>\n",
       "    <tr style=\"text-align: right;\">\n",
       "      <th></th>\n",
       "      <th>msno</th>\n",
       "      <th>city</th>\n",
       "      <th>bd</th>\n",
       "      <th>gender</th>\n",
       "      <th>registered_via</th>\n",
       "      <th>registration_init_time</th>\n",
       "      <th>expiration_date</th>\n",
       "    </tr>\n",
       "  </thead>\n",
       "  <tbody>\n",
       "    <tr>\n",
       "      <th>0</th>\n",
       "      <td>False</td>\n",
       "      <td>False</td>\n",
       "      <td>False</td>\n",
       "      <td>False</td>\n",
       "      <td>False</td>\n",
       "      <td>False</td>\n",
       "      <td>False</td>\n",
       "    </tr>\n",
       "    <tr>\n",
       "      <th>1</th>\n",
       "      <td>False</td>\n",
       "      <td>False</td>\n",
       "      <td>False</td>\n",
       "      <td>False</td>\n",
       "      <td>False</td>\n",
       "      <td>False</td>\n",
       "      <td>False</td>\n",
       "    </tr>\n",
       "    <tr>\n",
       "      <th>2</th>\n",
       "      <td>False</td>\n",
       "      <td>False</td>\n",
       "      <td>False</td>\n",
       "      <td>False</td>\n",
       "      <td>False</td>\n",
       "      <td>False</td>\n",
       "      <td>False</td>\n",
       "    </tr>\n",
       "    <tr>\n",
       "      <th>3</th>\n",
       "      <td>False</td>\n",
       "      <td>False</td>\n",
       "      <td>False</td>\n",
       "      <td>False</td>\n",
       "      <td>False</td>\n",
       "      <td>False</td>\n",
       "      <td>False</td>\n",
       "    </tr>\n",
       "    <tr>\n",
       "      <th>4</th>\n",
       "      <td>False</td>\n",
       "      <td>False</td>\n",
       "      <td>False</td>\n",
       "      <td>False</td>\n",
       "      <td>False</td>\n",
       "      <td>False</td>\n",
       "      <td>False</td>\n",
       "    </tr>\n",
       "    <tr>\n",
       "      <th>...</th>\n",
       "      <td>...</td>\n",
       "      <td>...</td>\n",
       "      <td>...</td>\n",
       "      <td>...</td>\n",
       "      <td>...</td>\n",
       "      <td>...</td>\n",
       "      <td>...</td>\n",
       "    </tr>\n",
       "    <tr>\n",
       "      <th>34398</th>\n",
       "      <td>False</td>\n",
       "      <td>False</td>\n",
       "      <td>False</td>\n",
       "      <td>False</td>\n",
       "      <td>False</td>\n",
       "      <td>False</td>\n",
       "      <td>False</td>\n",
       "    </tr>\n",
       "    <tr>\n",
       "      <th>34399</th>\n",
       "      <td>False</td>\n",
       "      <td>False</td>\n",
       "      <td>False</td>\n",
       "      <td>False</td>\n",
       "      <td>False</td>\n",
       "      <td>False</td>\n",
       "      <td>False</td>\n",
       "    </tr>\n",
       "    <tr>\n",
       "      <th>34400</th>\n",
       "      <td>False</td>\n",
       "      <td>False</td>\n",
       "      <td>False</td>\n",
       "      <td>False</td>\n",
       "      <td>False</td>\n",
       "      <td>False</td>\n",
       "      <td>False</td>\n",
       "    </tr>\n",
       "    <tr>\n",
       "      <th>34401</th>\n",
       "      <td>False</td>\n",
       "      <td>False</td>\n",
       "      <td>False</td>\n",
       "      <td>False</td>\n",
       "      <td>False</td>\n",
       "      <td>False</td>\n",
       "      <td>False</td>\n",
       "    </tr>\n",
       "    <tr>\n",
       "      <th>34402</th>\n",
       "      <td>False</td>\n",
       "      <td>False</td>\n",
       "      <td>False</td>\n",
       "      <td>False</td>\n",
       "      <td>False</td>\n",
       "      <td>False</td>\n",
       "      <td>False</td>\n",
       "    </tr>\n",
       "  </tbody>\n",
       "</table>\n",
       "<p>34403 rows × 7 columns</p>\n",
       "</div>"
      ],
      "text/plain": [
       "        msno   city     bd  gender  registered_via  registration_init_time  \\\n",
       "0      False  False  False   False           False                   False   \n",
       "1      False  False  False   False           False                   False   \n",
       "2      False  False  False   False           False                   False   \n",
       "3      False  False  False   False           False                   False   \n",
       "4      False  False  False   False           False                   False   \n",
       "...      ...    ...    ...     ...             ...                     ...   \n",
       "34398  False  False  False   False           False                   False   \n",
       "34399  False  False  False   False           False                   False   \n",
       "34400  False  False  False   False           False                   False   \n",
       "34401  False  False  False   False           False                   False   \n",
       "34402  False  False  False   False           False                   False   \n",
       "\n",
       "       expiration_date  \n",
       "0                False  \n",
       "1                False  \n",
       "2                False  \n",
       "3                False  \n",
       "4                False  \n",
       "...                ...  \n",
       "34398            False  \n",
       "34399            False  \n",
       "34400            False  \n",
       "34401            False  \n",
       "34402            False  \n",
       "\n",
       "[34403 rows x 7 columns]"
      ]
     },
     "execution_count": 89,
     "metadata": {},
     "output_type": "execute_result"
    }
   ],
   "source": [
    "members_data.isnull()"
   ]
  },
  {
   "cell_type": "code",
   "execution_count": 90,
   "id": "9e9978a3",
   "metadata": {},
   "outputs": [
    {
     "data": {
      "text/plain": [
       "msno                      0\n",
       "city                      0\n",
       "bd                        0\n",
       "gender                    0\n",
       "registered_via            0\n",
       "registration_init_time    0\n",
       "expiration_date           0\n",
       "dtype: int64"
      ]
     },
     "execution_count": 90,
     "metadata": {},
     "output_type": "execute_result"
    }
   ],
   "source": [
    "members_data.isnull().sum()"
   ]
  },
  {
   "cell_type": "code",
   "execution_count": 36,
   "id": "172642a2",
   "metadata": {},
   "outputs": [
    {
     "name": "stdout",
     "output_type": "stream",
     "text": [
      "Total numbers of records : 7377418\n"
     ]
    }
   ],
   "source": [
    "print(f\"Total numbers of records : {train_data.shape[0]}\")"
   ]
  },
  {
   "cell_type": "code",
   "execution_count": 37,
   "id": "a0615d69",
   "metadata": {},
   "outputs": [
    {
     "data": {
      "text/plain": [
       "Text(0.5, 1.0, 'Count plot for system tab they are using')"
      ]
     },
     "execution_count": 37,
     "metadata": {},
     "output_type": "execute_result"
    },
    {
     "data": {
      "image/png": "[encoded data removed]",
      "text/plain": [
       "<Figure size 1500x800 with 1 Axes>"
      ]
     },
     "metadata": {},
     "output_type": "display_data"
    }
   ],
   "source": [
    "# Create a count plot of the 'source_system_tab' column in the 'train_data' DataFrame\n",
    "plt.figure(figsize=(15, 8))\n",
    "sns.countplot(x='source_system_tab', data=train_data, palette='twilight_r')\n",
    "\n",
    "# Set the x-axis label to 'source system tab' and the y-axis label to 'count'\n",
    "plt.xlabel('source system tab')\n",
    "plt.ylabel('count')\n",
    "\n",
    "# Rotate the x-axis tick labels by 45 degrees\n",
    "plt.xticks(rotation=45)\n",
    "\n",
    "# Set the title of the plot to 'Count plot for system tab they are using'\n",
    "plt.title('Count plot for system tab they are using')"
   ]
  },
  {
   "cell_type": "code",
   "execution_count": 39,
   "id": "c7f970f0",
   "metadata": {},
   "outputs": [
    {
     "data": {
      "image/png": "[encoded data removed]",
      "text/plain": [
       "<Figure size 640x480 with 1 Axes>"
      ]
     },
     "metadata": {},
     "output_type": "display_data"
    }
   ],
   "source": [
    "sns.countplot(y=train_data['target'],data=train_data, palette = 'viridis')\n",
    "plt.ylabel('Target Classes')\n",
    "plt.xlabel('Frequency ')\n",
    "plt.show()"
   ]
  },
  {
   "cell_type": "code",
   "execution_count": 40,
   "id": "5a05ee8f",
   "metadata": {},
   "outputs": [
    {
     "data": {
      "image/png": "[encoded data removed]",
      "text/plain": [
       "<Figure size 800x800 with 1 Axes>"
      ]
     },
     "metadata": {},
     "output_type": "display_data"
    }
   ],
   "source": [
    "plt.figure(figsize = (8,8))\n",
    "sns.countplot(y=train_data['source_type'],data=train_data)\n",
    "plt.ylabel('Source type')\n",
    "plt.xlabel('Countplot for each source type')\n",
    "plt.show()"
   ]
  },
  {
   "cell_type": "code",
   "execution_count": 41,
   "id": "c0ca05f8",
   "metadata": {},
   "outputs": [
    {
     "data": {
      "image/png": "[encoded data removed]",
      "text/plain": [
       "<Figure size 1500x1000 with 1 Axes>"
      ]
     },
     "metadata": {},
     "output_type": "display_data"
    }
   ],
   "source": [
    "# Create a count plot of the 'source_screen_name' column in the 'train_data' DataFrame\n",
    "plt.figure(figsize=(15, 10))\n",
    "sns.countplot(x=train_data['source_screen_name'], data=train_data, palette='rocket')\n",
    "\n",
    "# Set the plot style to 'darkgrid'\n",
    "sns.set(style='darkgrid')\n",
    "\n",
    "# Set the x-axis label to 'source screen name' and the y-axis label to 'count'\n",
    "plt.xlabel('source screen name')\n",
    "plt.ylabel('count')\n",
    "\n",
    "# Rotate the x-axis tick labels by 90 degrees for better readability\n",
    "plt.xticks(rotation=90)\n",
    "\n",
    "# Set the title of the plot to 'Count plot for system screen name they are using'\n",
    "plt.title('Count plot for system screen name they are using')\n",
    "\n",
    "# Adjust the spacing between subplots for better readability\n",
    "plt.tight_layout()\n"
   ]
  },
  {
   "cell_type": "code",
   "execution_count": 42,
   "id": "2dbe74cc",
   "metadata": {},
   "outputs": [
    {
     "name": "stdout",
     "output_type": "stream",
     "text": [
      "Total number of duplicate user IDs:  7346663\n",
      "Total percentage of duplicate user IDs:  99.58311973104954 %\n"
     ]
    }
   ],
   "source": [
    "duplicate_values = len(train_data[\"msno\"]) - train_data[\"msno\"].nunique()\n",
    "print(\"Total number of duplicate user IDs: \", duplicate_values)\n",
    "print(\"Total percentage of duplicate user IDs: \", (duplicate_values/len(train_data[\"msno\"]))*100, \"%\")"
   ]
  },
  {
   "cell_type": "code",
   "execution_count": 43,
   "id": "9e82d82e",
   "metadata": {},
   "outputs": [
    {
     "name": "stdout",
     "output_type": "stream",
     "text": [
      "Total no of duplicate song id :  7017452\n",
      "Total percentage of duplicate song id :  95.12070483196153 %\n"
     ]
    }
   ],
   "source": [
    "duplicate_values1 = len(train_data[\"song_id\"])-train_data[\"song_id\"].nunique()\n",
    "print(\"Total no of duplicate song id : \",duplicate_values1)\n",
    "print(\"Total percentage of duplicate song id : \",(duplicate_values1/len(train_data[\"song_id\"]))*100,\"%\")"
   ]
  },
  {
   "cell_type": "code",
   "execution_count": 55,
   "id": "9174c0c3",
   "metadata": {},
   "outputs": [
    {
     "data": {
      "text/plain": [
       "source_system_tab     0\n",
       "source_screen_name    0\n",
       "source_type           0\n",
       "target                0\n",
       "dtype: int64"
      ]
     },
     "execution_count": 55,
     "metadata": {},
     "output_type": "execute_result"
    }
   ],
   "source": [
    "train_data.isnull().sum()"
   ]
  },
  {
   "cell_type": "code",
   "execution_count": 56,
   "id": "f9aa7f00",
   "metadata": {},
   "outputs": [],
   "source": [
    "train_data['source_system_tab'].fillna('my library',inplace=True)\n",
    "train_data['source_type'].fillna('local-library',inplace=True)\n",
    "train_data['source_screen_name'].fillna('Local playlist',inplace=True)"
   ]
  },
  {
   "cell_type": "code",
   "execution_count": 57,
   "id": "8641e69d",
   "metadata": {},
   "outputs": [
    {
     "data": {
      "text/plain": [
       "source_system_tab     0\n",
       "source_screen_name    0\n",
       "source_type           0\n",
       "target                0\n",
       "dtype: int64"
      ]
     },
     "execution_count": 57,
     "metadata": {},
     "output_type": "execute_result"
    }
   ],
   "source": [
    "train_data.isnull().sum()"
   ]
  },
  {
   "cell_type": "code",
   "execution_count": 58,
   "id": "fefe9b71",
   "metadata": {},
   "outputs": [
    {
     "data": {
      "text/html": [
       "<div>\n",
       "<style scoped>\n",
       "    .dataframe tbody tr th:only-of-type {\n",
       "        vertical-align: middle;\n",
       "    }\n",
       "\n",
       "    .dataframe tbody tr th {\n",
       "        vertical-align: top;\n",
       "    }\n",
       "\n",
       "    .dataframe thead th {\n",
       "        text-align: right;\n",
       "    }\n",
       "</style>\n",
       "<table border=\"1\" class=\"dataframe\">\n",
       "  <thead>\n",
       "    <tr style=\"text-align: right;\">\n",
       "      <th></th>\n",
       "      <th>source_system_tab</th>\n",
       "      <th>source_screen_name</th>\n",
       "      <th>source_type</th>\n",
       "      <th>target</th>\n",
       "    </tr>\n",
       "  </thead>\n",
       "  <tbody>\n",
       "    <tr>\n",
       "      <th>0</th>\n",
       "      <td>explore</td>\n",
       "      <td>Explore</td>\n",
       "      <td>online-playlist</td>\n",
       "      <td>1</td>\n",
       "    </tr>\n",
       "    <tr>\n",
       "      <th>1</th>\n",
       "      <td>my library</td>\n",
       "      <td>Local playlist more</td>\n",
       "      <td>local-playlist</td>\n",
       "      <td>1</td>\n",
       "    </tr>\n",
       "    <tr>\n",
       "      <th>2</th>\n",
       "      <td>my library</td>\n",
       "      <td>Local playlist more</td>\n",
       "      <td>local-playlist</td>\n",
       "      <td>1</td>\n",
       "    </tr>\n",
       "    <tr>\n",
       "      <th>3</th>\n",
       "      <td>my library</td>\n",
       "      <td>Local playlist more</td>\n",
       "      <td>local-playlist</td>\n",
       "      <td>1</td>\n",
       "    </tr>\n",
       "    <tr>\n",
       "      <th>4</th>\n",
       "      <td>explore</td>\n",
       "      <td>Explore</td>\n",
       "      <td>online-playlist</td>\n",
       "      <td>1</td>\n",
       "    </tr>\n",
       "    <tr>\n",
       "      <th>...</th>\n",
       "      <td>...</td>\n",
       "      <td>...</td>\n",
       "      <td>...</td>\n",
       "      <td>...</td>\n",
       "    </tr>\n",
       "    <tr>\n",
       "      <th>7377413</th>\n",
       "      <td>my library</td>\n",
       "      <td>Local playlist more</td>\n",
       "      <td>local-playlist</td>\n",
       "      <td>1</td>\n",
       "    </tr>\n",
       "    <tr>\n",
       "      <th>7377414</th>\n",
       "      <td>search</td>\n",
       "      <td>Search</td>\n",
       "      <td>song</td>\n",
       "      <td>0</td>\n",
       "    </tr>\n",
       "    <tr>\n",
       "      <th>7377415</th>\n",
       "      <td>search</td>\n",
       "      <td>Search</td>\n",
       "      <td>song</td>\n",
       "      <td>1</td>\n",
       "    </tr>\n",
       "    <tr>\n",
       "      <th>7377416</th>\n",
       "      <td>discover</td>\n",
       "      <td>Discover Genre</td>\n",
       "      <td>online-playlist</td>\n",
       "      <td>1</td>\n",
       "    </tr>\n",
       "    <tr>\n",
       "      <th>7377417</th>\n",
       "      <td>discover</td>\n",
       "      <td>Discover Genre</td>\n",
       "      <td>online-playlist</td>\n",
       "      <td>1</td>\n",
       "    </tr>\n",
       "  </tbody>\n",
       "</table>\n",
       "<p>7377418 rows × 4 columns</p>\n",
       "</div>"
      ],
      "text/plain": [
       "        source_system_tab   source_screen_name      source_type  target\n",
       "0                 explore              Explore  online-playlist       1\n",
       "1              my library  Local playlist more   local-playlist       1\n",
       "2              my library  Local playlist more   local-playlist       1\n",
       "3              my library  Local playlist more   local-playlist       1\n",
       "4                 explore              Explore  online-playlist       1\n",
       "...                   ...                  ...              ...     ...\n",
       "7377413        my library  Local playlist more   local-playlist       1\n",
       "7377414            search               Search             song       0\n",
       "7377415            search               Search             song       1\n",
       "7377416          discover       Discover Genre  online-playlist       1\n",
       "7377417          discover       Discover Genre  online-playlist       1\n",
       "\n",
       "[7377418 rows x 4 columns]"
      ]
     },
     "execution_count": 58,
     "metadata": {},
     "output_type": "execute_result"
    }
   ],
   "source": [
    "train_data"
   ]
  },
  {
   "cell_type": "code",
   "execution_count": 60,
   "id": "617b6540",
   "metadata": {},
   "outputs": [
    {
     "data": {
      "text/html": [
       "<div>\n",
       "<style scoped>\n",
       "    .dataframe tbody tr th:only-of-type {\n",
       "        vertical-align: middle;\n",
       "    }\n",
       "\n",
       "    .dataframe tbody tr th {\n",
       "        vertical-align: top;\n",
       "    }\n",
       "\n",
       "    .dataframe thead th {\n",
       "        text-align: right;\n",
       "    }\n",
       "</style>\n",
       "<table border=\"1\" class=\"dataframe\">\n",
       "  <thead>\n",
       "    <tr style=\"text-align: right;\">\n",
       "      <th></th>\n",
       "      <th>source_system_tab</th>\n",
       "      <th>source_screen_name</th>\n",
       "      <th>source_type</th>\n",
       "      <th>target</th>\n",
       "    </tr>\n",
       "  </thead>\n",
       "  <tbody>\n",
       "    <tr>\n",
       "      <th>0</th>\n",
       "      <td>explore</td>\n",
       "      <td>Explore</td>\n",
       "      <td>online-playlist</td>\n",
       "      <td>1</td>\n",
       "    </tr>\n",
       "    <tr>\n",
       "      <th>1</th>\n",
       "      <td>my library</td>\n",
       "      <td>Local playlist more</td>\n",
       "      <td>local-playlist</td>\n",
       "      <td>1</td>\n",
       "    </tr>\n",
       "    <tr>\n",
       "      <th>2</th>\n",
       "      <td>my library</td>\n",
       "      <td>Local playlist more</td>\n",
       "      <td>local-playlist</td>\n",
       "      <td>1</td>\n",
       "    </tr>\n",
       "    <tr>\n",
       "      <th>3</th>\n",
       "      <td>my library</td>\n",
       "      <td>Local playlist more</td>\n",
       "      <td>local-playlist</td>\n",
       "      <td>1</td>\n",
       "    </tr>\n",
       "    <tr>\n",
       "      <th>4</th>\n",
       "      <td>explore</td>\n",
       "      <td>Explore</td>\n",
       "      <td>online-playlist</td>\n",
       "      <td>1</td>\n",
       "    </tr>\n",
       "    <tr>\n",
       "      <th>...</th>\n",
       "      <td>...</td>\n",
       "      <td>...</td>\n",
       "      <td>...</td>\n",
       "      <td>...</td>\n",
       "    </tr>\n",
       "    <tr>\n",
       "      <th>7377413</th>\n",
       "      <td>my library</td>\n",
       "      <td>Local playlist more</td>\n",
       "      <td>local-playlist</td>\n",
       "      <td>1</td>\n",
       "    </tr>\n",
       "    <tr>\n",
       "      <th>7377414</th>\n",
       "      <td>search</td>\n",
       "      <td>Search</td>\n",
       "      <td>song</td>\n",
       "      <td>0</td>\n",
       "    </tr>\n",
       "    <tr>\n",
       "      <th>7377415</th>\n",
       "      <td>search</td>\n",
       "      <td>Search</td>\n",
       "      <td>song</td>\n",
       "      <td>1</td>\n",
       "    </tr>\n",
       "    <tr>\n",
       "      <th>7377416</th>\n",
       "      <td>discover</td>\n",
       "      <td>Discover Genre</td>\n",
       "      <td>online-playlist</td>\n",
       "      <td>1</td>\n",
       "    </tr>\n",
       "    <tr>\n",
       "      <th>7377417</th>\n",
       "      <td>discover</td>\n",
       "      <td>Discover Genre</td>\n",
       "      <td>online-playlist</td>\n",
       "      <td>1</td>\n",
       "    </tr>\n",
       "  </tbody>\n",
       "</table>\n",
       "<p>7377418 rows × 4 columns</p>\n",
       "</div>"
      ],
      "text/plain": [
       "        source_system_tab   source_screen_name      source_type  target\n",
       "0                 explore              Explore  online-playlist       1\n",
       "1              my library  Local playlist more   local-playlist       1\n",
       "2              my library  Local playlist more   local-playlist       1\n",
       "3              my library  Local playlist more   local-playlist       1\n",
       "4                 explore              Explore  online-playlist       1\n",
       "...                   ...                  ...              ...     ...\n",
       "7377413        my library  Local playlist more   local-playlist       1\n",
       "7377414            search               Search             song       0\n",
       "7377415            search               Search             song       1\n",
       "7377416          discover       Discover Genre  online-playlist       1\n",
       "7377417          discover       Discover Genre  online-playlist       1\n",
       "\n",
       "[7377418 rows x 4 columns]"
      ]
     },
     "execution_count": 60,
     "metadata": {},
     "output_type": "execute_result"
    }
   ],
   "source": [
    "train_data"
   ]
  },
  {
   "cell_type": "code",
   "execution_count": 62,
   "id": "1725b8a2",
   "metadata": {},
   "outputs": [],
   "source": [
    "df = train_data"
   ]
  },
  {
   "cell_type": "code",
   "execution_count": 63,
   "id": "9ae9e58f",
   "metadata": {},
   "outputs": [],
   "source": [
    "from sklearn.preprocessing import LabelEncoder"
   ]
  },
  {
   "cell_type": "code",
   "execution_count": 64,
   "id": "833f6a31",
   "metadata": {},
   "outputs": [],
   "source": [
    "encoder = LabelEncoder()\n",
    "source_system_tab = encoder.fit_transform(df['source_system_tab'])\n",
    "source_screen_name = encoder.fit_transform(df['source_screen_name'])\n",
    "source_type = encoder.fit_transform(df['source_type'])"
   ]
  },
  {
   "cell_type": "code",
   "execution_count": 66,
   "id": "0d904681",
   "metadata": {},
   "outputs": [
    {
     "data": {
      "text/html": [
       "<div>\n",
       "<style scoped>\n",
       "    .dataframe tbody tr th:only-of-type {\n",
       "        vertical-align: middle;\n",
       "    }\n",
       "\n",
       "    .dataframe tbody tr th {\n",
       "        vertical-align: top;\n",
       "    }\n",
       "\n",
       "    .dataframe thead th {\n",
       "        text-align: right;\n",
       "    }\n",
       "</style>\n",
       "<table border=\"1\" class=\"dataframe\">\n",
       "  <thead>\n",
       "    <tr style=\"text-align: right;\">\n",
       "      <th></th>\n",
       "      <th>source_system_tab</th>\n",
       "      <th>source_screen_name</th>\n",
       "      <th>source_type</th>\n",
       "      <th>target</th>\n",
       "    </tr>\n",
       "  </thead>\n",
       "  <tbody>\n",
       "    <tr>\n",
       "      <th>0</th>\n",
       "      <td>1</td>\n",
       "      <td>7</td>\n",
       "      <td>6</td>\n",
       "      <td>1</td>\n",
       "    </tr>\n",
       "    <tr>\n",
       "      <th>1</th>\n",
       "      <td>3</td>\n",
       "      <td>9</td>\n",
       "      <td>4</td>\n",
       "      <td>1</td>\n",
       "    </tr>\n",
       "    <tr>\n",
       "      <th>2</th>\n",
       "      <td>3</td>\n",
       "      <td>9</td>\n",
       "      <td>4</td>\n",
       "      <td>1</td>\n",
       "    </tr>\n",
       "    <tr>\n",
       "      <th>3</th>\n",
       "      <td>3</td>\n",
       "      <td>9</td>\n",
       "      <td>4</td>\n",
       "      <td>1</td>\n",
       "    </tr>\n",
       "    <tr>\n",
       "      <th>4</th>\n",
       "      <td>1</td>\n",
       "      <td>7</td>\n",
       "      <td>6</td>\n",
       "      <td>1</td>\n",
       "    </tr>\n",
       "    <tr>\n",
       "      <th>...</th>\n",
       "      <td>...</td>\n",
       "      <td>...</td>\n",
       "      <td>...</td>\n",
       "      <td>...</td>\n",
       "    </tr>\n",
       "    <tr>\n",
       "      <th>7377413</th>\n",
       "      <td>3</td>\n",
       "      <td>9</td>\n",
       "      <td>4</td>\n",
       "      <td>1</td>\n",
       "    </tr>\n",
       "    <tr>\n",
       "      <th>7377414</th>\n",
       "      <td>6</td>\n",
       "      <td>16</td>\n",
       "      <td>8</td>\n",
       "      <td>0</td>\n",
       "    </tr>\n",
       "    <tr>\n",
       "      <th>7377415</th>\n",
       "      <td>6</td>\n",
       "      <td>16</td>\n",
       "      <td>8</td>\n",
       "      <td>1</td>\n",
       "    </tr>\n",
       "    <tr>\n",
       "      <th>7377416</th>\n",
       "      <td>0</td>\n",
       "      <td>5</td>\n",
       "      <td>6</td>\n",
       "      <td>1</td>\n",
       "    </tr>\n",
       "    <tr>\n",
       "      <th>7377417</th>\n",
       "      <td>0</td>\n",
       "      <td>5</td>\n",
       "      <td>6</td>\n",
       "      <td>1</td>\n",
       "    </tr>\n",
       "  </tbody>\n",
       "</table>\n",
       "<p>7377418 rows × 4 columns</p>\n",
       "</div>"
      ],
      "text/plain": [
       "         source_system_tab  source_screen_name  source_type  target\n",
       "0                        1                   7            6       1\n",
       "1                        3                   9            4       1\n",
       "2                        3                   9            4       1\n",
       "3                        3                   9            4       1\n",
       "4                        1                   7            6       1\n",
       "...                    ...                 ...          ...     ...\n",
       "7377413                  3                   9            4       1\n",
       "7377414                  6                  16            8       0\n",
       "7377415                  6                  16            8       1\n",
       "7377416                  0                   5            6       1\n",
       "7377417                  0                   5            6       1\n",
       "\n",
       "[7377418 rows x 4 columns]"
      ]
     },
     "execution_count": 66,
     "metadata": {},
     "output_type": "execute_result"
    }
   ],
   "source": [
    "df"
   ]
  },
  {
   "cell_type": "code",
   "execution_count": 67,
   "id": "04e6bd0b",
   "metadata": {},
   "outputs": [
    {
     "data": {
      "text/plain": [
       "source_system_tab     0\n",
       "source_screen_name    0\n",
       "source_type           0\n",
       "target                0\n",
       "dtype: int64"
      ]
     },
     "execution_count": 67,
     "metadata": {},
     "output_type": "execute_result"
    }
   ],
   "source": [
    "df.isnull().sum()"
   ]
  },
  {
   "cell_type": "code",
   "execution_count": 69,
   "id": "f72c603c",
   "metadata": {},
   "outputs": [
    {
     "data": {
      "text/plain": [
       "source_system_tab     0\n",
       "source_screen_name    0\n",
       "source_type           0\n",
       "target                0\n",
       "dtype: int64"
      ]
     },
     "execution_count": 69,
     "metadata": {},
     "output_type": "execute_result"
    }
   ],
   "source": [
    "df.isnull().sum()"
   ]
  },
  {
   "cell_type": "code",
   "execution_count": 70,
   "id": "5fdb240b",
   "metadata": {},
   "outputs": [],
   "source": [
    "df.to_csv('preprocessed_data2.csv')"
   ]
  },
  {
   "cell_type": "code",
   "execution_count": 71,
   "id": "0c480448",
   "metadata": {},
   "outputs": [],
   "source": [
    "df1 = df[0:30000]"
   ]
  },
  {
   "cell_type": "code",
   "execution_count": 72,
   "id": "30e90bf9",
   "metadata": {},
   "outputs": [],
   "source": [
    "Y = df1.target\n",
    "X = df1.drop('target', axis = 1)"
   ]
  },
  {
   "cell_type": "code",
   "execution_count": 73,
   "id": "2aab9699",
   "metadata": {},
   "outputs": [],
   "source": [
    "X_train, X_test, Y_train, Y_test = train_test_split(X, Y, test_size = 0.25, random_state = 0)    "
   ]
  },
  {
   "cell_type": "code",
   "execution_count": 74,
   "id": "c97586d2",
   "metadata": {},
   "outputs": [
    {
     "data": {
      "text/plain": [
       "(22500, 3)"
      ]
     },
     "execution_count": 74,
     "metadata": {},
     "output_type": "execute_result"
    }
   ],
   "source": [
    "X_train.shape"
   ]
  },
  {
   "cell_type": "code",
   "execution_count": 75,
   "id": "b455022d",
   "metadata": {},
   "outputs": [
    {
     "data": {
      "text/plain": [
       "(7500, 3)"
      ]
     },
     "execution_count": 75,
     "metadata": {},
     "output_type": "execute_result"
    }
   ],
   "source": [
    "X_test.shape"
   ]
  },
  {
   "cell_type": "code",
   "execution_count": 76,
   "id": "89344728",
   "metadata": {},
   "outputs": [],
   "source": [
    "scaler = StandardScaler()\n",
    "X_train = scaler.fit_transform(X_train)\n",
    "X_test = scaler.fit_transform(X_test)"
   ]
  },
  {
   "cell_type": "code",
   "execution_count": 77,
   "id": "a559b5b1",
   "metadata": {},
   "outputs": [],
   "source": [
    "rfc = RandomForestClassifier()\n",
    "rfc.fit(X_train, Y_train)\n",
    "pred = rfc.predict(X_test)"
   ]
  },
  {
   "cell_type": "code",
   "execution_count": 78,
   "id": "cb24b87a",
   "metadata": {},
   "outputs": [
    {
     "name": "stdout",
     "output_type": "stream",
     "text": [
      "Accuracy is : 78.53333333333333\n",
      "\n",
      "Confusion matrix :\n",
      " [[ 438 1393]\n",
      " [ 217 5452]]\n"
     ]
    }
   ],
   "source": [
    "print (\"Accuracy is :\", accuracy_score(Y_test, pred)*100)\n",
    "print (\"\\nConfusion matrix :\\n\",confusion_matrix(Y_test, pred))"
   ]
  },
  {
   "cell_type": "code",
   "execution_count": 79,
   "id": "5c4102bd",
   "metadata": {},
   "outputs": [
    {
     "data": {
      "image/png": "[encoded data removed]",
      "text/plain": [
       "<Figure size 800x800 with 2 Axes>"
      ]
     },
     "metadata": {},
     "output_type": "display_data"
    }
   ],
   "source": [
    "plt.figure(figsize = (8,8))\n",
    "sns.heatmap(confusion_matrix(Y_test, pred), annot = True, fmt = 'g')\n",
    "plt.xlabel('Actual label')\n",
    "plt.ylabel('Predicted label')\n",
    "plt.title(\"Confusion Matrix\")\n",
    "plt.show()"
   ]
  },
  {
   "cell_type": "code",
   "execution_count": 80,
   "id": "70d6a6c0",
   "metadata": {},
   "outputs": [],
   "source": [
    "pred_prob = rfc.predict_proba(X_test)"
   ]
  },
  {
   "cell_type": "code",
   "execution_count": 81,
   "id": "a99df58e",
   "metadata": {},
   "outputs": [],
   "source": [
    "from sklearn.metrics import roc_curve\n",
    "from sklearn.metrics import roc_auc_score"
   ]
  },
  {
   "cell_type": "code",
   "execution_count": 82,
   "id": "f36083ab",
   "metadata": {},
   "outputs": [],
   "source": [
    "fpr, tpr, thresh = roc_curve(Y_test, pred_prob[:,1], pos_label=1)\n",
    "auc_score = roc_auc_score(Y_test, pred_prob[:,1])"
   ]
  },
  {
   "cell_type": "code",
   "execution_count": 83,
   "id": "f9d4f8e2",
   "metadata": {},
   "outputs": [
    {
     "data": {
      "image/png": "[encoded data removed]",
      "text/plain": [
       "<Figure size 640x480 with 1 Axes>"
      ]
     },
     "metadata": {},
     "output_type": "display_data"
    }
   ],
   "source": [
    "sns.set_style('darkgrid')\n",
    "# plot roc curves\n",
    "plt.plot(fpr, tpr, linestyle='--',color='red', label='Random Forest Regression')\n",
    "#plt.plot(thresh, linestyle='--', color='blue')\n",
    "plt.plot([0, 1], ls=\"--\", color='blue')\n",
    "plt.title('ROC curve')\n",
    "# x label\n",
    "plt.xlabel('False Positive Rate')\n",
    "# y label\n",
    "plt.ylabel('True Positive rate')\n",
    "\n",
    "plt.legend()\n",
    "plt.savefig('ROC',dpi=300)\n",
    "plt.show();"
   ]
  },
  {
   "cell_type": "code",
   "execution_count": null,
   "id": "937623d3",
   "metadata": {},
   "outputs": [],
   "source": []
  }
 ],
 "metadata": {
  "kernelspec": {
   "display_name": "Python 3 (ipykernel)",
   "language": "python",
   "name": "python3"
  },
  "language_info": {
   "codemirror_mode": {
    "name": "ipython",
    "version": 3
   },
   "file_extension": ".py",
   "mimetype": "text/x-python",
   "name": "python",
   "nbconvert_exporter": "python",
   "pygments_lexer": "ipython3",
   "version": "3.10.9"
  }
 },
 "nbformat": 4,
 "nbformat_minor": 5
}
